{
 "cells": [
  {
   "cell_type": "markdown",
   "metadata": {},
   "source": [
    "### Understanding Tensorflow based on Deep-Learning-with-TensorFlow"
   ]
  },
  {
   "cell_type": "markdown",
   "metadata": {},
   "source": [
    "#### Chapter 2"
   ]
  },
  {
   "cell_type": "code",
   "execution_count": 19,
   "metadata": {},
   "outputs": [
    {
     "name": "stdout",
     "output_type": "stream",
     "text": [
      "[ 600.  800. 1000.]\n"
     ]
    }
   ],
   "source": [
    "import tensorflow as tf\n",
    "\n",
    "with tf.Session() as sess:\n",
    "    x = tf.placeholder(tf.float32,[3],name=\"x\")\n",
    "    y = tf.placeholder(tf.float32,[1],name=\"y\")\n",
    "    z = tf.constant(2.0)\n",
    "    y = x*z\n",
    "    x_in = [300,400,500]\n",
    "    y_output = sess.run(y,{x: x_in})\n",
    "    print(y_output)"
   ]
  },
  {
   "cell_type": "code",
   "execution_count": 14,
   "metadata": {},
   "outputs": [
    {
     "name": "stdout",
     "output_type": "stream",
     "text": [
      "Data [[0.3804653  0.05917821]]\n",
      "Result [[0.7609306  0.11835643]]\n"
     ]
    }
   ],
   "source": [
    "import tensorflow as tf\n",
    "import numpy as np\n",
    "a = 1\n",
    "b = 2\n",
    "\n",
    "x = tf.placeholder(tf.float32,[a,b])\n",
    "y = tf.add(x,x)\n",
    "\n",
    "data = np.random.rand(a,b)\n",
    "print(\"Data\",data)\n",
    "sess = tf.Session()\n",
    "print(\"Result\",sess.run(y,feed_dict={x: data}))\n"
   ]
  },
  {
   "cell_type": "code",
   "execution_count": 22,
   "metadata": {},
   "outputs": [
    {
     "name": "stdout",
     "output_type": "stream",
     "text": [
      "Sum [300]\n",
      "Multi [300]\n"
     ]
    }
   ],
   "source": [
    "import tensorflow as tf\n",
    "constant_a = tf.constant([100])\n",
    "constant_b = tf.constant([200])\n",
    "constant_c = tf.constant([3])\n",
    "\n",
    "sum_ = tf.add(constant_a,constant_b)\n",
    "mul_ = tf.multiply(constant_a,constant_c)\n",
    "\n",
    "with tf.Session() as sess:\n",
    "    result = sess.run([sum_,mul_])\n",
    "    print(\"Sum\",result[0])\n",
    "    print(\"Multi\",result[1])"
   ]
  },
  {
   "cell_type": "markdown",
   "metadata": {},
   "source": [
    "##### Single Neuron"
   ]
  },
  {
   "cell_type": "code",
   "execution_count": 27,
   "metadata": {},
   "outputs": [
    {
     "name": "stdout",
     "output_type": "stream",
     "text": [
      "Tensor(\"input_value_5_2:0\", shape=(), dtype=string)\n",
      "Tensor(\"weight_5_2:0\", shape=(), dtype=string)\n",
      "Tensor(\"expected_output_5_2:0\", shape=(), dtype=string)\n",
      "Tensor(\"model_5_2:0\", shape=(), dtype=string)\n",
      "Tensor(\"loss_function_5_2:0\", shape=(), dtype=string)\n"
     ]
    }
   ],
   "source": [
    "import tensorflow as tf\n",
    "\n",
    "weight = tf.Variable(1.0, name=\"weight\")\n",
    "input_value = tf.Variable(0.5, name=\"input_value\")\n",
    "expected_output = tf.constant(0.0, name=\"expected_output\")\n",
    "\n",
    "model = tf.multiply(input_value,weight, \"model\")  # input * weight \n",
    "\n",
    "loss_function = tf.pow(expected_output - model, 2, name=\"loss_function\") #Mean Sqaure Error L2\n",
    "\n",
    "optimizer = tf.train.GradientDescentOptimizer(0.025).minimize(loss_function)\n",
    "\n",
    "for value in [input_value, weight, expected_output, model, loss_function]:\n",
    "    tf.summary.scalar(value.op.name, value)\n",
    "    print(tf.summary.scalar(value.op.name, value))\n",
    "\n",
    "summaries = tf.summary.merge_all()\n",
    "sess = tf.Session()\n",
    "\n",
    "summary_writer = tf.summary.FileWriter('log_simple_stats', sess.graph)\n",
    "\n",
    "sess.run(tf.global_variables_initializer())\n",
    "\n",
    "for i in range(100):\n",
    "    summary_writer.add_summary(sess.run(summaries), i)\n",
    "    sess.run(optimizer)\n",
    "    \n",
    "\n"
   ]
  },
  {
   "cell_type": "markdown",
   "metadata": {},
   "source": [
    "##### Tensorflow Counter"
   ]
  },
  {
   "cell_type": "code",
   "execution_count": 32,
   "metadata": {},
   "outputs": [
    {
     "name": "stdout",
     "output_type": "stream",
     "text": [
      "0\n",
      "1\n",
      "2\n",
      "3\n",
      "4\n",
      "5\n",
      "6\n",
      "7\n",
      "8\n",
      "9\n",
      "10\n"
     ]
    }
   ],
   "source": [
    "import tensorflow as tf\n",
    "\n",
    "value = tf.Variable(0, name=\"value\")\n",
    "one = tf.constant(1)\n",
    "new_value = tf.add(value, one)\n",
    "update_value = tf.assign(value, new_value)\n",
    "\n",
    "initialize_var = tf.global_variables_initializer()\n",
    "\n",
    "with tf.Session() as sess:\n",
    "    sess.run(initialize_var)\n",
    "    print(sess.run(value))\n",
    "    for _ in range(10):\n",
    "        sess.run(update_value)\n",
    "        print(sess.run(value))\n",
    "\n"
   ]
  },
  {
   "cell_type": "markdown",
   "metadata": {},
   "source": [
    "##### with numpy"
   ]
  },
  {
   "cell_type": "code",
   "execution_count": 39,
   "metadata": {},
   "outputs": [
    {
     "name": "stdout",
     "output_type": "stream",
     "text": [
      "(10,)\n",
      "[ 1  2  3  4  5  6  7  8  9 10]\n",
      "\n",
      "\n",
      "(3, 3)\n",
      "[[1 2 3]\n",
      " [4 5 6]\n",
      " [7 8 9]]\n",
      "\n",
      "\n",
      "(3, 3, 3)\n",
      "[[[ 0.  1.  2.]\n",
      "  [ 3.  4.  5.]\n",
      "  [ 6.  7.  8.]]\n",
      "\n",
      " [[ 9. 10. 11.]\n",
      "  [12. 13. 14.]\n",
      "  [15. 16. 17.]]\n",
      "\n",
      " [[18. 19. 20.]\n",
      "  [21. 22. 23.]\n",
      "  [24. 25. 26.]]]\n",
      "\n",
      "\n",
      "[1 2 3 4 5]\n"
     ]
    }
   ],
   "source": [
    "import tensorflow as tf\n",
    "import numpy as np\n",
    "\n",
    "#tensore 1d con valori costanti\n",
    "tensor_1d = np.array([1, 2, 3, 4, 5, 6, 7, 8, 9, 10])\n",
    "tensor_1d = tf.constant(tensor_1d)\n",
    "with tf.Session() as sess:\n",
    "    print(tensor_1d.get_shape())\n",
    "    print(sess.run(tensor_1d))\n",
    "    print(\"\\n\")\n",
    "#tensore 2d con valori variabili\n",
    "tensor_2d = np.array([(1, 2, 3), (4, 5, 6), (7, 8, 9)])\n",
    "tensor_2d = tf.Variable(tensor_2d)\n",
    "with tf.Session() as sess:\n",
    "    sess.run(tf.global_variables_initializer())\n",
    "    print(tensor_2d.get_shape())\n",
    "    print(sess.run(tensor_2d))\n",
    "    print(\"\\n\")\n",
    "    \n",
    "tensor_3d = np.array([[[ 0,  1,  2],[ 3,  4,  5],[ 6,  7,  8]],\n",
    "                      [[ 9, 10, 11],[12, 13, 14],[15, 16, 17]],\n",
    "                      [[18, 19, 20],[21, 22, 23],[24, 25, 26]]])\n",
    "\n",
    "tensor_3d = tf.convert_to_tensor(tensor_3d, dtype=tf.float64)\n",
    "with tf.Session() as sess:\n",
    "    print(tensor_3d.get_shape())\n",
    "    print(sess.run(tensor_3d))\n",
    "    print(\"\\n\")\n",
    "\n",
    "interactive_session = tf.InteractiveSession()\n",
    "tensor = np.array([1, 2, 3, 4, 5])\n",
    "tensor = tf.constant(tensor)\n",
    "print(tensor.eval())\n",
    "interactive_session.close()"
   ]
  },
  {
   "cell_type": "code",
   "execution_count": null,
   "metadata": {},
   "outputs": [],
   "source": []
  }
 ],
 "metadata": {
  "kernelspec": {
   "display_name": "Python 3",
   "language": "python",
   "name": "python3"
  },
  "language_info": {
   "codemirror_mode": {
    "name": "ipython",
    "version": 3
   },
   "file_extension": ".py",
   "mimetype": "text/x-python",
   "name": "python",
   "nbconvert_exporter": "python",
   "pygments_lexer": "ipython3",
   "version": "3.6.7"
  }
 },
 "nbformat": 4,
 "nbformat_minor": 2
}
