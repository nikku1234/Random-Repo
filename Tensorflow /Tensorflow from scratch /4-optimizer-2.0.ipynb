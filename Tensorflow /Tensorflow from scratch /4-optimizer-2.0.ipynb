{
 "cells": [
  {
   "cell_type": "code",
   "execution_count": 1,
   "metadata": {},
   "outputs": [],
   "source": [
    "#Optimizer demo with TF 2.0\n",
    "#solve the equation 25= a*5"
   ]
  },
  {
   "cell_type": "code",
   "execution_count": 24,
   "metadata": {},
   "outputs": [],
   "source": [
    "import tensorflow as tf"
   ]
  },
  {
   "cell_type": "code",
   "execution_count": 25,
   "metadata": {},
   "outputs": [],
   "source": [
    "a=tf.Variable(0.0)"
   ]
  },
  {
   "cell_type": "code",
   "execution_count": 26,
   "metadata": {},
   "outputs": [],
   "source": [
    "def myloss(x):\n",
    "    loss=a*x\n",
    "    return loss\n"
   ]
  },
  {
   "cell_type": "code",
   "execution_count": 27,
   "metadata": {},
   "outputs": [
    {
     "name": "stdout",
     "output_type": "stream",
     "text": [
      "0\n"
     ]
    }
   ],
   "source": [
    "tf.print(myloss(5))"
   ]
  },
  {
   "cell_type": "code",
   "execution_count": 28,
   "metadata": {},
   "outputs": [
    {
     "name": "stdout",
     "output_type": "stream",
     "text": [
      "<function <lambda> at 0x12bce0d90>\n"
     ]
    }
   ],
   "source": [
    "loss=lambda:abs(myloss(5)-[25])\n",
    "print(loss)"
   ]
  },
  {
   "cell_type": "code",
   "execution_count": 29,
   "metadata": {},
   "outputs": [],
   "source": [
    "optimizer=tf.optimizers.Adam(1)"
   ]
  },
  {
   "cell_type": "code",
   "execution_count": 30,
   "metadata": {},
   "outputs": [
    {
     "data": {
      "text/plain": [
       "<tf.Variable 'UnreadVariable' shape=() dtype=int64, numpy=1>"
      ]
     },
     "execution_count": 30,
     "metadata": {},
     "output_type": "execute_result"
    }
   ],
   "source": [
    "optimizer.minimize(loss,[a])"
   ]
  },
  {
   "cell_type": "code",
   "execution_count": 31,
   "metadata": {},
   "outputs": [
    {
     "name": "stdout",
     "output_type": "stream",
     "text": [
      "0.999999344\n"
     ]
    }
   ],
   "source": [
    "tf.print(a)"
   ]
  },
  {
   "cell_type": "code",
   "execution_count": 32,
   "metadata": {},
   "outputs": [],
   "source": [
    "for i in range(1000):\n",
    "    optimizer.minimize(loss,[a])"
   ]
  },
  {
   "cell_type": "code",
   "execution_count": 33,
   "metadata": {},
   "outputs": [
    {
     "name": "stdout",
     "output_type": "stream",
     "text": [
      "4.91155338\n"
     ]
    }
   ],
   "source": [
    "tf.print(a)"
   ]
  },
  {
   "cell_type": "code",
   "execution_count": 34,
   "metadata": {},
   "outputs": [
    {
     "name": "stdout",
     "output_type": "stream",
     "text": [
      "24.557766\n",
      "<function <lambda> at 0x12da4b268>\n",
      "4.91155338\n",
      "5.04859161\n"
     ]
    }
   ],
   "source": [
    "tf.print(myloss(5))\n",
    "loss=lambda:abs(myloss(5)-[25])\n",
    "print(loss)\n",
    "optimizer=tf.optimizers.Adam(1)\n",
    "tf.print(a)\n",
    "for i in range(1000):\n",
    "    optimizer.minimize(loss,[a])\n",
    "tf.print(a)"
   ]
  },
  {
   "cell_type": "code",
   "execution_count": 35,
   "metadata": {},
   "outputs": [
    {
     "name": "stdout",
     "output_type": "stream",
     "text": [
      "25.2429581\n",
      "<function <lambda> at 0x12dc46488>\n",
      "5.04859161\n",
      "5.16503572\n"
     ]
    }
   ],
   "source": [
    "tf.print(myloss(5))\n",
    "loss=lambda:abs(myloss(5)-[25])\n",
    "print(loss)\n",
    "optimizer=tf.optimizers.Adam(1)\n",
    "tf.print(a)\n",
    "for i in range(1000):\n",
    "    optimizer.minimize(loss,[a])\n",
    "tf.print(a)"
   ]
  },
  {
   "cell_type": "code",
   "execution_count": 36,
   "metadata": {},
   "outputs": [
    {
     "name": "stdout",
     "output_type": "stream",
     "text": [
      "25.8251781\n",
      "<function <lambda> at 0x12dc46730>\n",
      "5.16503572\n",
      "5.06817865\n"
     ]
    }
   ],
   "source": [
    "tf.print(myloss(5))\n",
    "loss=lambda:abs(myloss(5)-[25])\n",
    "print(loss)\n",
    "optimizer=tf.optimizers.Adam(1)\n",
    "tf.print(a)\n",
    "for i in range(1000):\n",
    "    optimizer.minimize(loss,[a])\n",
    "tf.print(a)"
   ]
  },
  {
   "cell_type": "code",
   "execution_count": 37,
   "metadata": {},
   "outputs": [
    {
     "name": "stdout",
     "output_type": "stream",
     "text": [
      "25.3408928\n",
      "<function <lambda> at 0x12dc46620>\n",
      "5.06817865\n",
      "5.00165367\n"
     ]
    }
   ],
   "source": [
    "tf.print(myloss(5))\n",
    "loss=lambda:abs(myloss(5)-[25])\n",
    "print(loss)\n",
    "optimizer=tf.optimizers.Adam(1)\n",
    "tf.print(a)\n",
    "for i in range(1000):\n",
    "    optimizer.minimize(loss,[a])\n",
    "tf.print(a)"
   ]
  },
  {
   "cell_type": "code",
   "execution_count": 38,
   "metadata": {},
   "outputs": [
    {
     "name": "stdout",
     "output_type": "stream",
     "text": [
      "25.0082684\n",
      "<function <lambda> at 0x12dc46950>\n",
      "5.00165367\n",
      "4.91249514\n"
     ]
    }
   ],
   "source": [
    "tf.print(myloss(5))\n",
    "loss=lambda:abs(myloss(5)-[25])\n",
    "print(loss)\n",
    "optimizer=tf.optimizers.Adam(1)\n",
    "tf.print(a)\n",
    "for i in range(1000):\n",
    "    optimizer.minimize(loss,[a])\n",
    "tf.print(a)"
   ]
  },
  {
   "cell_type": "code",
   "execution_count": null,
   "metadata": {},
   "outputs": [],
   "source": []
  }
 ],
 "metadata": {
  "kernelspec": {
   "display_name": "Python 3",
   "language": "python",
   "name": "python3"
  },
  "language_info": {
   "codemirror_mode": {
    "name": "ipython",
    "version": 3
   },
   "file_extension": ".py",
   "mimetype": "text/x-python",
   "name": "python",
   "nbconvert_exporter": "python",
   "pygments_lexer": "ipython3",
   "version": "3.6.7"
  }
 },
 "nbformat": 4,
 "nbformat_minor": 2
}
