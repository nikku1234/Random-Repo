{
 "cells": [
  {
   "cell_type": "code",
   "execution_count": 1,
   "metadata": {},
   "outputs": [
    {
     "name": "stderr",
     "output_type": "stream",
     "text": [
      "Using TensorFlow backend.\n"
     ]
    }
   ],
   "source": [
    "from __future__ import print_function\n",
    "from keras.preprocessing.image import ImageDataGenerator\n",
    "import numpy as np \n",
    "import os\n",
    "import glob\n",
    "import skimage.io as io\n",
    "import skimage.transform as trans\n",
    "from keras.models import *\n",
    "from keras.layers import *\n",
    "from keras.optimizers import *\n",
    "from keras.callbacks import ModelCheckpoint, LearningRateScheduler\n",
    "from keras import backend as K\n",
    "import keras"
   ]
  },
  {
   "cell_type": "code",
   "execution_count": 2,
   "metadata": {},
   "outputs": [
    {
     "data": {
      "text/plain": [
       "['/job:localhost/replica:0/task:0/device:GPU:0']"
      ]
     },
     "execution_count": 2,
     "metadata": {},
     "output_type": "execute_result"
    }
   ],
   "source": [
    "from keras import backend as K\n",
    "K.tensorflow_backend._get_available_gpus()"
   ]
  },
  {
   "cell_type": "code",
   "execution_count": 3,
   "metadata": {},
   "outputs": [],
   "source": [
    "def unet(pretrained_weights = None,input_size = (512,512,1)):\n",
    "    inputs = Input(input_size)\n",
    "    \n",
    "    # Introduced a new layer to scale the architecture for image of size 512 * 512\n",
    "    # Downsampling\n",
    "    \n",
    "    \n",
    "    ##Layer 1:\n",
    "    conv = Conv2D(32, 3, activation = 'relu', padding = 'same', kernel_initializer = 'he_normal')(inputs)\n",
    "    conv = Conv2D(32, 3, activation = 'relu', padding = 'same', kernel_initializer = 'he_normal')(conv)\n",
    "    pool = MaxPooling2D(pool_size=(2, 2))(conv)\n",
    "    \n",
    "    ##Layer 2:\n",
    "    conv1 = Conv2D(64, 3, activation = 'relu', padding = 'same', kernel_initializer = 'he_normal')(pool)\n",
    "    conv1 = Conv2D(64, 3, activation = 'relu', padding = 'same', kernel_initializer = 'he_normal')(conv1)\n",
    "    pool1 = MaxPooling2D(pool_size=(2, 2))(conv1)\n",
    "    \n",
    "    ##Layer 3:\n",
    "    conv2 = Conv2D(128, 3, activation = 'relu', padding = 'same', kernel_initializer = 'he_normal')(pool1)\n",
    "    conv2 = Conv2D(128, 3, activation = 'relu', padding = 'same', kernel_initializer = 'he_normal')(conv2)\n",
    "    pool2 = MaxPooling2D(pool_size=(2, 2))(conv2)\n",
    "    \n",
    "    ##Layer 4:\n",
    "    conv3 = Conv2D(256, 3, activation = 'relu', padding = 'same', kernel_initializer = 'he_normal')(pool2)\n",
    "    conv3 = Conv2D(256, 3, activation = 'relu', padding = 'same', kernel_initializer = 'he_normal')(conv3)\n",
    "    pool3 = MaxPooling2D(pool_size=(2, 2))(conv3)\n",
    "    \n",
    "    ##Layer 5:\n",
    "    conv4 = Conv2D(512, 3, activation = 'relu', padding = 'same', kernel_initializer = 'he_normal')(pool3)\n",
    "    conv4 = Conv2D(512, 3, activation = 'relu', padding = 'same', kernel_initializer = 'he_normal')(conv4)\n",
    "    drop4 = Dropout(0.5)(conv4)\n",
    "    pool4 = MaxPooling2D(pool_size=(2, 2))(drop4)\n",
    "\n",
    "    #########Bottleneck\n",
    "    conv5 = Conv2D(1024, 3, activation = 'relu', padding = 'same', kernel_initializer = 'he_normal')(pool4)\n",
    "    conv5 = Conv2D(1024, 3, activation = 'relu', padding = 'same', kernel_initializer = 'he_normal')(conv5)\n",
    "    drop5 = Dropout(0.5)(conv5)\n",
    "\n",
    "    \n",
    "    #Upsampling\n",
    "    \n",
    "    ## Upsampling layer 5:\n",
    "    up6 = Conv2D(512, 2, activation = 'relu', padding = 'same', kernel_initializer = 'he_normal')(UpSampling2D(size = (2,2))(drop5))\n",
    "    merge6 = concatenate([drop4,up6])\n",
    "    conv6 = Conv2D(512, 3, activation = 'relu', padding = 'same', kernel_initializer = 'he_normal')(merge6)\n",
    "    conv6 = Conv2D(512, 3, activation = 'relu', padding = 'same', kernel_initializer = 'he_normal')(conv6)\n",
    "    \n",
    "    ## Upsampling Layer 4:\n",
    "    up7 = Conv2D(256, 2, activation = 'relu', padding = 'same', kernel_initializer = 'he_normal')(UpSampling2D(size = (2,2))(conv6))\n",
    "    merge7 = concatenate([conv3,up7])\n",
    "    conv7 = Conv2D(256, 3, activation = 'relu', padding = 'same', kernel_initializer = 'he_normal')(merge7)\n",
    "    conv7 = Conv2D(256, 3, activation = 'relu', padding = 'same', kernel_initializer = 'he_normal')(conv7)\n",
    "\n",
    "    ## Upsampling Layer 3:\n",
    "    up8 = Conv2D(128, 2, activation = 'relu', padding = 'same', kernel_initializer = 'he_normal')(UpSampling2D(size = (2,2))(conv7))\n",
    "    merge8 = concatenate([conv2,up8])\n",
    "    conv8 = Conv2D(128, 3, activation = 'relu', padding = 'same', kernel_initializer = 'he_normal')(merge8)\n",
    "    conv8 = Conv2D(128, 3, activation = 'relu', padding = 'same', kernel_initializer = 'he_normal')(conv8)\n",
    "\n",
    "    ## Upsamplng Layer 2:\n",
    "    up9 = Conv2D(64, 2, activation = 'relu', padding = 'same', kernel_initializer = 'he_normal')(UpSampling2D(size = (2,2))(conv8))\n",
    "    merge9 = concatenate([conv1,up9])\n",
    "    conv9 = Conv2D(64, 3, activation = 'relu', padding = 'same', kernel_initializer = 'he_normal')(merge9)\n",
    "    conv9 = Conv2D(64, 3, activation = 'relu', padding = 'same', kernel_initializer = 'he_normal')(conv9)\n",
    "    \n",
    "    ## Upsampling Layer 1:\n",
    "    up10 = Conv2D(32, 2, activation = 'relu', padding = 'same', kernel_initializer = 'he_normal')(UpSampling2D(size = (2,2))(conv9))\n",
    "    merge10 = concatenate([conv,up10])\n",
    "    conv10 = Conv2D(32, 3, activation = 'relu', padding = 'same', kernel_initializer = 'he_normal')(merge10)\n",
    "    conv10 = Conv2D(32, 3, activation = 'relu', padding = 'same', kernel_initializer = 'he_normal')(conv10)\n",
    "    \n",
    "    conv10 = Conv2D(2, 3, activation = 'relu', padding = 'same', kernel_initializer = 'he_normal')(conv10)\n",
    "    conv11 = Conv2D(1, 1, activation = 'sigmoid')(conv10)\n",
    "\n",
    "    model = Model(input = inputs, output = conv11)\n",
    "\n",
    "    model.compile(optimizer = Adam(lr = 1e-4), loss = 'binary_crossentropy', metrics = ['accuracy'])\n",
    "    \n",
    "    #model.summary()\n",
    "\n",
    "    if(pretrained_weights):\n",
    "        model.load_weights(pretrained_weights)\n",
    "\n",
    "    return model"
   ]
  },
  {
   "cell_type": "code",
   "execution_count": 4,
   "metadata": {},
   "outputs": [
    {
     "name": "stdout",
     "output_type": "stream",
     "text": [
      "__________________________________________________________________________________________________\n",
      "Layer (type)                    Output Shape         Param #     Connected to                     \n",
      "==================================================================================================\n",
      "input_1 (InputLayer)            (None, 512, 512, 1)  0                                            \n",
      "__________________________________________________________________________________________________\n",
      "conv2d_1 (Conv2D)               (None, 512, 512, 32) 320         input_1[0][0]                    \n",
      "__________________________________________________________________________________________________\n",
      "conv2d_2 (Conv2D)               (None, 512, 512, 32) 9248        conv2d_1[0][0]                   \n",
      "__________________________________________________________________________________________________\n",
      "max_pooling2d_1 (MaxPooling2D)  (None, 256, 256, 32) 0           conv2d_2[0][0]                   \n",
      "__________________________________________________________________________________________________\n",
      "conv2d_3 (Conv2D)               (None, 256, 256, 64) 18496       max_pooling2d_1[0][0]            \n",
      "__________________________________________________________________________________________________\n",
      "conv2d_4 (Conv2D)               (None, 256, 256, 64) 36928       conv2d_3[0][0]                   \n",
      "__________________________________________________________________________________________________\n",
      "max_pooling2d_2 (MaxPooling2D)  (None, 128, 128, 64) 0           conv2d_4[0][0]                   \n",
      "__________________________________________________________________________________________________\n",
      "conv2d_5 (Conv2D)               (None, 128, 128, 128 73856       max_pooling2d_2[0][0]            \n",
      "__________________________________________________________________________________________________\n",
      "conv2d_6 (Conv2D)               (None, 128, 128, 128 147584      conv2d_5[0][0]                   \n",
      "__________________________________________________________________________________________________\n",
      "max_pooling2d_3 (MaxPooling2D)  (None, 64, 64, 128)  0           conv2d_6[0][0]                   \n",
      "__________________________________________________________________________________________________\n",
      "conv2d_7 (Conv2D)               (None, 64, 64, 256)  295168      max_pooling2d_3[0][0]            \n",
      "__________________________________________________________________________________________________\n",
      "conv2d_8 (Conv2D)               (None, 64, 64, 256)  590080      conv2d_7[0][0]                   \n",
      "__________________________________________________________________________________________________\n",
      "max_pooling2d_4 (MaxPooling2D)  (None, 32, 32, 256)  0           conv2d_8[0][0]                   \n",
      "__________________________________________________________________________________________________\n",
      "conv2d_9 (Conv2D)               (None, 32, 32, 512)  1180160     max_pooling2d_4[0][0]            \n",
      "__________________________________________________________________________________________________\n",
      "conv2d_10 (Conv2D)              (None, 32, 32, 512)  2359808     conv2d_9[0][0]                   \n",
      "__________________________________________________________________________________________________\n",
      "dropout_1 (Dropout)             (None, 32, 32, 512)  0           conv2d_10[0][0]                  \n",
      "__________________________________________________________________________________________________\n",
      "max_pooling2d_5 (MaxPooling2D)  (None, 16, 16, 512)  0           dropout_1[0][0]                  \n",
      "__________________________________________________________________________________________________\n",
      "conv2d_11 (Conv2D)              (None, 16, 16, 1024) 4719616     max_pooling2d_5[0][0]            \n",
      "__________________________________________________________________________________________________\n",
      "conv2d_12 (Conv2D)              (None, 16, 16, 1024) 9438208     conv2d_11[0][0]                  \n",
      "__________________________________________________________________________________________________\n",
      "dropout_2 (Dropout)             (None, 16, 16, 1024) 0           conv2d_12[0][0]                  \n",
      "__________________________________________________________________________________________________\n",
      "up_sampling2d_1 (UpSampling2D)  (None, 32, 32, 1024) 0           dropout_2[0][0]                  \n",
      "__________________________________________________________________________________________________\n",
      "conv2d_13 (Conv2D)              (None, 32, 32, 512)  2097664     up_sampling2d_1[0][0]            \n",
      "__________________________________________________________________________________________________\n",
      "concatenate_1 (Concatenate)     (None, 32, 32, 1024) 0           dropout_1[0][0]                  \n",
      "                                                                 conv2d_13[0][0]                  \n",
      "__________________________________________________________________________________________________\n",
      "conv2d_14 (Conv2D)              (None, 32, 32, 512)  4719104     concatenate_1[0][0]              \n",
      "__________________________________________________________________________________________________\n",
      "conv2d_15 (Conv2D)              (None, 32, 32, 512)  2359808     conv2d_14[0][0]                  \n",
      "__________________________________________________________________________________________________\n",
      "up_sampling2d_2 (UpSampling2D)  (None, 64, 64, 512)  0           conv2d_15[0][0]                  \n",
      "__________________________________________________________________________________________________\n",
      "conv2d_16 (Conv2D)              (None, 64, 64, 256)  524544      up_sampling2d_2[0][0]            \n",
      "__________________________________________________________________________________________________\n",
      "concatenate_2 (Concatenate)     (None, 64, 64, 512)  0           conv2d_8[0][0]                   \n",
      "                                                                 conv2d_16[0][0]                  \n",
      "__________________________________________________________________________________________________\n",
      "conv2d_17 (Conv2D)              (None, 64, 64, 256)  1179904     concatenate_2[0][0]              \n",
      "__________________________________________________________________________________________________\n",
      "conv2d_18 (Conv2D)              (None, 64, 64, 256)  590080      conv2d_17[0][0]                  \n",
      "__________________________________________________________________________________________________\n",
      "up_sampling2d_3 (UpSampling2D)  (None, 128, 128, 256 0           conv2d_18[0][0]                  \n",
      "__________________________________________________________________________________________________\n",
      "conv2d_19 (Conv2D)              (None, 128, 128, 128 131200      up_sampling2d_3[0][0]            \n",
      "__________________________________________________________________________________________________\n",
      "concatenate_3 (Concatenate)     (None, 128, 128, 256 0           conv2d_6[0][0]                   \n",
      "                                                                 conv2d_19[0][0]                  \n",
      "__________________________________________________________________________________________________\n",
      "conv2d_20 (Conv2D)              (None, 128, 128, 128 295040      concatenate_3[0][0]              \n",
      "__________________________________________________________________________________________________\n",
      "conv2d_21 (Conv2D)              (None, 128, 128, 128 147584      conv2d_20[0][0]                  \n",
      "__________________________________________________________________________________________________\n",
      "up_sampling2d_4 (UpSampling2D)  (None, 256, 256, 128 0           conv2d_21[0][0]                  \n",
      "__________________________________________________________________________________________________\n",
      "conv2d_22 (Conv2D)              (None, 256, 256, 64) 32832       up_sampling2d_4[0][0]            \n",
      "__________________________________________________________________________________________________\n",
      "concatenate_4 (Concatenate)     (None, 256, 256, 128 0           conv2d_4[0][0]                   \n",
      "                                                                 conv2d_22[0][0]                  \n",
      "__________________________________________________________________________________________________\n",
      "conv2d_23 (Conv2D)              (None, 256, 256, 64) 73792       concatenate_4[0][0]              \n",
      "__________________________________________________________________________________________________\n",
      "conv2d_24 (Conv2D)              (None, 256, 256, 64) 36928       conv2d_23[0][0]                  \n",
      "__________________________________________________________________________________________________\n",
      "up_sampling2d_5 (UpSampling2D)  (None, 512, 512, 64) 0           conv2d_24[0][0]                  \n",
      "__________________________________________________________________________________________________\n",
      "conv2d_25 (Conv2D)              (None, 512, 512, 32) 8224        up_sampling2d_5[0][0]            \n",
      "__________________________________________________________________________________________________\n",
      "concatenate_5 (Concatenate)     (None, 512, 512, 64) 0           conv2d_2[0][0]                   \n",
      "                                                                 conv2d_25[0][0]                  \n",
      "__________________________________________________________________________________________________\n",
      "conv2d_26 (Conv2D)              (None, 512, 512, 32) 18464       concatenate_5[0][0]              \n",
      "__________________________________________________________________________________________________\n",
      "conv2d_27 (Conv2D)              (None, 512, 512, 32) 9248        conv2d_26[0][0]                  \n",
      "__________________________________________________________________________________________________\n",
      "conv2d_28 (Conv2D)              (None, 512, 512, 2)  578         conv2d_27[0][0]                  \n",
      "__________________________________________________________________________________________________\n",
      "conv2d_29 (Conv2D)              (None, 512, 512, 1)  3           conv2d_28[0][0]                  \n",
      "==================================================================================================\n",
      "Total params: 31,094,469\n",
      "Trainable params: 31,094,469\n",
      "Non-trainable params: 0\n",
      "__________________________________________________________________________________________________\n"
     ]
    },
    {
     "name": "stderr",
     "output_type": "stream",
     "text": [
      "/home/ravitha/anaconda3/envs/tf-gpu/lib/python3.6/site-packages/ipykernel_launcher.py:75: UserWarning: Update your `Model` call to the Keras 2 API: `Model(inputs=Tensor(\"in..., outputs=Tensor(\"co...)`\n"
     ]
    }
   ],
   "source": [
    "model1 =unet()\n",
    "model1.summary()"
   ]
  },
  {
   "cell_type": "code",
   "execution_count": 6,
   "metadata": {},
   "outputs": [],
   "source": [
    "\n",
    "def adjustData(img,mask):\n",
    "    img = img / 255\n",
    "    mask = mask /255\n",
    "    mask[mask > 0.5] = 1\n",
    "    mask[mask <= 0.5] = 0\n",
    "    return (img,mask)\n"
   ]
  },
  {
   "cell_type": "code",
   "execution_count": 5,
   "metadata": {},
   "outputs": [],
   "source": [
    "PATH='/home/ravitha/D/Datasets/TNBC Dataset'"
   ]
  },
  {
   "cell_type": "code",
   "execution_count": 8,
   "metadata": {},
   "outputs": [],
   "source": [
    "def trainGenerator(batch_size,train_path,image_folder,mask_folder,aug_dict,image_color_mode = \"grayscale\",\n",
    "                    mask_color_mode = \"grayscale\",image_save_prefix  = \"Image\",mask_save_prefix  = \"Mask\",\n",
    "                    flag_multi_class = False,num_class = 2,save_to_dir = PATH + '/aug',target_size = (512,512),seed = 1):\n",
    "\n",
    "\n",
    "    \n",
    "    image_datagen = ImageDataGenerator(**aug_dict)\n",
    "    mask_datagen = ImageDataGenerator(**aug_dict)\n",
    "\n",
    "    # Provide the same seed and keyword arguments to the fit and flow methods\n",
    "    #seed = 1\n",
    "    image_generator = image_datagen.flow_from_directory(\n",
    "        train_path,\n",
    "        classes = [image_folder],\n",
    "        class_mode = None,\n",
    "        color_mode = image_color_mode,\n",
    "        target_size = target_size,\n",
    "        batch_size = batch_size,\n",
    "        save_to_dir = save_to_dir,\n",
    "        save_prefix  = image_save_prefix,\n",
    "        seed = seed)\n",
    "\n",
    "    mask_generator = mask_datagen.flow_from_directory(\n",
    "        train_path,\n",
    "        classes = [mask_folder],\n",
    "        class_mode = None,\n",
    "        color_mode = mask_color_mode,\n",
    "        target_size = target_size,\n",
    "        batch_size = batch_size,\n",
    "        save_to_dir = save_to_dir,\n",
    "        save_prefix  = mask_save_prefix,\n",
    "        seed = seed)\n",
    "    train_generator = zip(image_generator, mask_generator)\n",
    "    for (img,mask) in train_generator:\n",
    "        img,mask = adjustData(img,mask)\n",
    "        yield (img,mask)\n"
   ]
  },
  {
   "cell_type": "code",
   "execution_count": 9,
   "metadata": {},
   "outputs": [],
   "source": [
    "data_gen_args = dict(rotation_range=0.2,width_shift_range=0.05,height_shift_range=0.05,shear_range=0.05,zoom_range=0.05,horizontal_flip=True, fill_mode='nearest')"
   ]
  },
  {
   "cell_type": "code",
   "execution_count": 10,
   "metadata": {},
   "outputs": [],
   "source": [
    "myGene = trainGenerator(10,PATH,'Image','Mask',data_gen_args,save_to_dir = PATH + '/aug',target_size=(512,512))"
   ]
  },
  {
   "cell_type": "code",
   "execution_count": 11,
   "metadata": {},
   "outputs": [],
   "source": [
    "model_checkpoint = ModelCheckpoint('unet_Final.hdf5', monitor='loss',verbose=1, save_best_only=True)"
   ]
  },
  {
   "cell_type": "code",
   "execution_count": 12,
   "metadata": {},
   "outputs": [
    {
     "name": "stdout",
     "output_type": "stream",
     "text": [
      "Epoch 1/64\n",
      "Found 39 images belonging to 1 classes.\n",
      "Found 39 images belonging to 1 classes.\n",
      "35/35 [==============================] - 30s 856ms/step - loss: 0.4215 - acc: 0.8275\n",
      "\n",
      "Epoch 00001: loss improved from inf to 0.42301, saving model to unet_Final.hdf5\n",
      "Epoch 2/64\n",
      "35/35 [==============================] - 21s 588ms/step - loss: 0.3093 - acc: 0.8785\n",
      "\n",
      "Epoch 00002: loss improved from 0.42301 to 0.30872, saving model to unet_Final.hdf5\n",
      "Epoch 3/64\n",
      "35/35 [==============================] - 21s 599ms/step - loss: 0.2663 - acc: 0.8935\n",
      "\n",
      "Epoch 00003: loss improved from 0.30872 to 0.26587, saving model to unet_Final.hdf5\n",
      "Epoch 4/64\n",
      "35/35 [==============================] - 21s 605ms/step - loss: 0.2304 - acc: 0.9051\n",
      "\n",
      "Epoch 00004: loss improved from 0.26587 to 0.23094, saving model to unet_Final.hdf5\n",
      "Epoch 5/64\n",
      "35/35 [==============================] - 21s 608ms/step - loss: 0.2142 - acc: 0.9111\n",
      "\n",
      "Epoch 00005: loss improved from 0.23094 to 0.21408, saving model to unet_Final.hdf5\n",
      "Epoch 6/64\n",
      "35/35 [==============================] - 22s 619ms/step - loss: 0.2076 - acc: 0.9124\n",
      "\n",
      "Epoch 00006: loss improved from 0.21408 to 0.20757, saving model to unet_Final.hdf5\n",
      "Epoch 7/64\n",
      "35/35 [==============================] - 22s 630ms/step - loss: 0.2075 - acc: 0.9137\n",
      "\n",
      "Epoch 00007: loss improved from 0.20757 to 0.20737, saving model to unet_Final.hdf5\n",
      "Epoch 8/64\n",
      "35/35 [==============================] - 22s 623ms/step - loss: 0.2014 - acc: 0.9153\n",
      "\n",
      "Epoch 00008: loss improved from 0.20737 to 0.20100, saving model to unet_Final.hdf5\n",
      "Epoch 9/64\n",
      "35/35 [==============================] - 21s 612ms/step - loss: 0.2112 - acc: 0.9116\n",
      "\n",
      "Epoch 00009: loss did not improve from 0.20100\n",
      "Epoch 10/64\n",
      "35/35 [==============================] - 22s 616ms/step - loss: 0.1916 - acc: 0.9200\n",
      "\n",
      "Epoch 00010: loss improved from 0.20100 to 0.19197, saving model to unet_Final.hdf5\n",
      "Epoch 11/64\n",
      "35/35 [==============================] - 22s 615ms/step - loss: 0.2204 - acc: 0.9096\n",
      "\n",
      "Epoch 00011: loss did not improve from 0.19197\n",
      "Epoch 12/64\n",
      "35/35 [==============================] - 21s 614ms/step - loss: 0.1965 - acc: 0.9187\n",
      "\n",
      "Epoch 00012: loss did not improve from 0.19197\n",
      "Epoch 13/64\n",
      "35/35 [==============================] - 22s 618ms/step - loss: 0.1868 - acc: 0.9222\n",
      "\n",
      "Epoch 00013: loss improved from 0.19197 to 0.18703, saving model to unet_Final.hdf5\n",
      "Epoch 14/64\n",
      "35/35 [==============================] - 22s 620ms/step - loss: 0.1893 - acc: 0.9218\n",
      "\n",
      "Epoch 00014: loss did not improve from 0.18703\n",
      "Epoch 15/64\n",
      "35/35 [==============================] - 21s 614ms/step - loss: 0.1787 - acc: 0.9264\n",
      "\n",
      "Epoch 00015: loss improved from 0.18703 to 0.17877, saving model to unet_Final.hdf5\n",
      "Epoch 16/64\n",
      "35/35 [==============================] - 22s 622ms/step - loss: 0.1683 - acc: 0.9306\n",
      "\n",
      "Epoch 00016: loss improved from 0.17877 to 0.16840, saving model to unet_Final.hdf5\n",
      "Epoch 17/64\n",
      "35/35 [==============================] - 22s 622ms/step - loss: 0.1724 - acc: 0.9293\n",
      "\n",
      "Epoch 00017: loss did not improve from 0.16840\n",
      "Epoch 18/64\n",
      "35/35 [==============================] - 22s 617ms/step - loss: 0.1542 - acc: 0.9368\n",
      "\n",
      "Epoch 00018: loss improved from 0.16840 to 0.15461, saving model to unet_Final.hdf5\n",
      "Epoch 19/64\n",
      "35/35 [==============================] - 22s 617ms/step - loss: 0.1572 - acc: 0.9357\n",
      "\n",
      "Epoch 00019: loss did not improve from 0.15461\n",
      "Epoch 20/64\n",
      "35/35 [==============================] - 22s 623ms/step - loss: 0.1476 - acc: 0.9391\n",
      "\n",
      "Epoch 00020: loss improved from 0.15461 to 0.14761, saving model to unet_Final.hdf5\n",
      "Epoch 21/64\n",
      "35/35 [==============================] - 21s 614ms/step - loss: 0.1462 - acc: 0.9399\n",
      "\n",
      "Epoch 00021: loss improved from 0.14761 to 0.14639, saving model to unet_Final.hdf5\n",
      "Epoch 22/64\n",
      "35/35 [==============================] - 21s 614ms/step - loss: 0.1448 - acc: 0.9403\n",
      "\n",
      "Epoch 00022: loss improved from 0.14639 to 0.14472, saving model to unet_Final.hdf5\n",
      "Epoch 23/64\n",
      "35/35 [==============================] - 22s 620ms/step - loss: 0.1381 - acc: 0.9431\n",
      "\n",
      "Epoch 00023: loss improved from 0.14472 to 0.13800, saving model to unet_Final.hdf5\n",
      "Epoch 24/64\n",
      "35/35 [==============================] - 22s 616ms/step - loss: 0.1354 - acc: 0.9442\n",
      "\n",
      "Epoch 00024: loss improved from 0.13800 to 0.13539, saving model to unet_Final.hdf5\n",
      "Epoch 25/64\n",
      "35/35 [==============================] - 22s 623ms/step - loss: 0.1315 - acc: 0.9457\n",
      "\n",
      "Epoch 00025: loss improved from 0.13539 to 0.13158, saving model to unet_Final.hdf5\n",
      "Epoch 26/64\n",
      "35/35 [==============================] - 22s 625ms/step - loss: 0.1258 - acc: 0.9480\n",
      "\n",
      "Epoch 00026: loss improved from 0.13158 to 0.12571, saving model to unet_Final.hdf5\n",
      "Epoch 27/64\n",
      "35/35 [==============================] - 21s 611ms/step - loss: 0.1173 - acc: 0.9513\n",
      "\n",
      "Epoch 00027: loss improved from 0.12571 to 0.11728, saving model to unet_Final.hdf5\n",
      "Epoch 28/64\n",
      "35/35 [==============================] - 21s 612ms/step - loss: 0.1253 - acc: 0.9482\n",
      "\n",
      "Epoch 00028: loss did not improve from 0.11728\n",
      "Epoch 29/64\n",
      "35/35 [==============================] - 22s 616ms/step - loss: 0.1088 - acc: 0.9551\n",
      "\n",
      "Epoch 00029: loss improved from 0.11728 to 0.10872, saving model to unet_Final.hdf5\n",
      "Epoch 30/64\n",
      "35/35 [==============================] - 21s 610ms/step - loss: 0.1050 - acc: 0.9564\n",
      "\n",
      "Epoch 00030: loss improved from 0.10872 to 0.10504, saving model to unet_Final.hdf5\n",
      "Epoch 31/64\n",
      "35/35 [==============================] - 21s 610ms/step - loss: 0.0952 - acc: 0.9606\n",
      "\n",
      "Epoch 00031: loss improved from 0.10504 to 0.09533, saving model to unet_Final.hdf5\n",
      "Epoch 32/64\n",
      "35/35 [==============================] - 21s 612ms/step - loss: 0.0912 - acc: 0.9621\n",
      "\n",
      "Epoch 00032: loss improved from 0.09533 to 0.09102, saving model to unet_Final.hdf5\n",
      "Epoch 33/64\n",
      "35/35 [==============================] - 21s 614ms/step - loss: 0.0894 - acc: 0.9628\n",
      "\n",
      "Epoch 00033: loss improved from 0.09102 to 0.08952, saving model to unet_Final.hdf5\n",
      "Epoch 34/64\n",
      "35/35 [==============================] - 21s 613ms/step - loss: 0.0887 - acc: 0.9630\n",
      "\n",
      "Epoch 00034: loss improved from 0.08952 to 0.08847, saving model to unet_Final.hdf5\n",
      "Epoch 35/64\n",
      "35/35 [==============================] - 22s 615ms/step - loss: 0.0806 - acc: 0.9663\n",
      "\n",
      "Epoch 00035: loss improved from 0.08847 to 0.08063, saving model to unet_Final.hdf5\n",
      "Epoch 36/64\n",
      "35/35 [==============================] - 21s 612ms/step - loss: 0.1117 - acc: 0.9535\n",
      "\n",
      "Epoch 00036: loss did not improve from 0.08063\n",
      "Epoch 37/64\n",
      "35/35 [==============================] - 22s 615ms/step - loss: 0.0884 - acc: 0.9633\n",
      "\n",
      "Epoch 00037: loss did not improve from 0.08063\n",
      "Epoch 38/64\n",
      "35/35 [==============================] - 21s 613ms/step - loss: 0.0776 - acc: 0.9676\n",
      "\n",
      "Epoch 00038: loss improved from 0.08063 to 0.07779, saving model to unet_Final.hdf5\n",
      "Epoch 39/64\n",
      "35/35 [==============================] - 21s 613ms/step - loss: 0.0731 - acc: 0.9693\n",
      "\n",
      "Epoch 00039: loss improved from 0.07779 to 0.07299, saving model to unet_Final.hdf5\n",
      "Epoch 40/64\n",
      "35/35 [==============================] - 21s 613ms/step - loss: 0.0713 - acc: 0.9700\n",
      "\n",
      "Epoch 00040: loss improved from 0.07299 to 0.07138, saving model to unet_Final.hdf5\n",
      "Epoch 41/64\n",
      "35/35 [==============================] - 21s 613ms/step - loss: 0.0711 - acc: 0.9701\n",
      "\n",
      "Epoch 00041: loss improved from 0.07138 to 0.07077, saving model to unet_Final.hdf5\n",
      "Epoch 42/64\n",
      "35/35 [==============================] - 21s 609ms/step - loss: 0.0676 - acc: 0.9715\n",
      "\n",
      "Epoch 00042: loss improved from 0.07077 to 0.06765, saving model to unet_Final.hdf5\n",
      "Epoch 43/64\n",
      "35/35 [==============================] - 22s 620ms/step - loss: 0.0691 - acc: 0.9709\n",
      "\n",
      "Epoch 00043: loss did not improve from 0.06765\n",
      "Epoch 44/64\n",
      "35/35 [==============================] - 22s 625ms/step - loss: 0.0650 - acc: 0.9726\n",
      "\n",
      "Epoch 00044: loss improved from 0.06765 to 0.06507, saving model to unet_Final.hdf5\n",
      "Epoch 45/64\n",
      "35/35 [==============================] - 22s 627ms/step - loss: 0.0628 - acc: 0.9735\n",
      "\n",
      "Epoch 00045: loss improved from 0.06507 to 0.06271, saving model to unet_Final.hdf5\n",
      "Epoch 46/64\n",
      "35/35 [==============================] - 22s 617ms/step - loss: 0.0604 - acc: 0.9745\n",
      "\n",
      "Epoch 00046: loss improved from 0.06271 to 0.06048, saving model to unet_Final.hdf5\n",
      "Epoch 47/64\n",
      "35/35 [==============================] - 22s 616ms/step - loss: 0.0616 - acc: 0.9740\n",
      "\n",
      "Epoch 00047: loss did not improve from 0.06048\n",
      "Epoch 48/64\n"
     ]
    },
    {
     "name": "stdout",
     "output_type": "stream",
     "text": [
      "35/35 [==============================] - 21s 613ms/step - loss: 0.0577 - acc: 0.9756\n",
      "\n",
      "Epoch 00048: loss improved from 0.06048 to 0.05775, saving model to unet_Final.hdf5\n",
      "Epoch 49/64\n",
      "35/35 [==============================] - 22s 620ms/step - loss: 0.0578 - acc: 0.9755\n",
      "\n",
      "Epoch 00049: loss did not improve from 0.05775\n",
      "Epoch 50/64\n",
      "35/35 [==============================] - 21s 611ms/step - loss: 0.0561 - acc: 0.9762\n",
      "\n",
      "Epoch 00050: loss improved from 0.05775 to 0.05595, saving model to unet_Final.hdf5\n",
      "Epoch 51/64\n",
      "35/35 [==============================] - 22s 615ms/step - loss: 0.0548 - acc: 0.9768\n",
      "\n",
      "Epoch 00051: loss improved from 0.05595 to 0.05487, saving model to unet_Final.hdf5\n",
      "Epoch 52/64\n",
      "35/35 [==============================] - 21s 609ms/step - loss: 0.0557 - acc: 0.9764\n",
      "\n",
      "Epoch 00052: loss did not improve from 0.05487\n",
      "Epoch 53/64\n",
      "35/35 [==============================] - 22s 622ms/step - loss: 0.0553 - acc: 0.9766\n",
      "\n",
      "Epoch 00053: loss did not improve from 0.05487\n",
      "Epoch 54/64\n",
      "35/35 [==============================] - 22s 627ms/step - loss: 0.0520 - acc: 0.9780\n",
      "\n",
      "Epoch 00054: loss improved from 0.05487 to 0.05200, saving model to unet_Final.hdf5\n",
      "Epoch 55/64\n",
      "35/35 [==============================] - 22s 620ms/step - loss: 0.0516 - acc: 0.9781\n",
      "\n",
      "Epoch 00055: loss improved from 0.05200 to 0.05163, saving model to unet_Final.hdf5\n",
      "Epoch 56/64\n",
      "35/35 [==============================] - 21s 606ms/step - loss: 0.0498 - acc: 0.9788\n",
      "\n",
      "Epoch 00056: loss improved from 0.05163 to 0.04972, saving model to unet_Final.hdf5\n",
      "Epoch 57/64\n",
      "35/35 [==============================] - 21s 613ms/step - loss: 0.0523 - acc: 0.9778\n",
      "\n",
      "Epoch 00057: loss did not improve from 0.04972\n",
      "Epoch 58/64\n",
      "35/35 [==============================] - 22s 619ms/step - loss: 0.0483 - acc: 0.9794\n",
      "\n",
      "Epoch 00058: loss improved from 0.04972 to 0.04832, saving model to unet_Final.hdf5\n",
      "Epoch 59/64\n",
      "35/35 [==============================] - 21s 613ms/step - loss: 0.0472 - acc: 0.9799\n",
      "\n",
      "Epoch 00059: loss improved from 0.04832 to 0.04734, saving model to unet_Final.hdf5\n",
      "Epoch 60/64\n",
      "35/35 [==============================] - 21s 608ms/step - loss: 0.0466 - acc: 0.9801\n",
      "\n",
      "Epoch 00060: loss improved from 0.04734 to 0.04674, saving model to unet_Final.hdf5\n",
      "Epoch 61/64\n",
      "35/35 [==============================] - 21s 614ms/step - loss: 0.0472 - acc: 0.9798\n",
      "\n",
      "Epoch 00061: loss did not improve from 0.04674\n",
      "Epoch 62/64\n",
      "35/35 [==============================] - 22s 617ms/step - loss: 0.0461 - acc: 0.9803\n",
      "\n",
      "Epoch 00062: loss improved from 0.04674 to 0.04607, saving model to unet_Final.hdf5\n",
      "Epoch 63/64\n",
      "35/35 [==============================] - 22s 615ms/step - loss: 0.0443 - acc: 0.9810\n",
      "\n",
      "Epoch 00063: loss improved from 0.04607 to 0.04423, saving model to unet_Final.hdf5\n",
      "Epoch 64/64\n",
      "35/35 [==============================] - 22s 624ms/step - loss: 0.0435 - acc: 0.9814\n",
      "\n",
      "Epoch 00064: loss improved from 0.04423 to 0.04340, saving model to unet_Final.hdf5\n"
     ]
    },
    {
     "data": {
      "text/plain": [
       "<keras.callbacks.History at 0x7ff19459f978>"
      ]
     },
     "execution_count": 12,
     "metadata": {},
     "output_type": "execute_result"
    }
   ],
   "source": [
    "model1.fit_generator(myGene,steps_per_epoch=35,epochs=64,callbacks=[model_checkpoint])"
   ]
  },
  {
   "cell_type": "code",
   "execution_count": 6,
   "metadata": {},
   "outputs": [],
   "source": [
    "def testGenerator(testaug_dict,test_path):\n",
    "  \n",
    "    testimage_datagen = ImageDataGenerator(**testaug_dict)\n",
    "    #seed = 1\n",
    "    testimage_generator = testimage_datagen.flow_from_directory(\n",
    "        PATH,\n",
    "        class_mode = None,\n",
    "        classes = ['Test_Image'],\n",
    "        color_mode = 'grayscale',\n",
    "        target_size = (512,512),\n",
    "        batch_size = 1,\n",
    "        save_to_dir = PATH + '/testaugimg', seed=1)\n",
    "    for img in testimage_generator:\n",
    "        img = img / 255\n",
    "        yield img"
   ]
  },
  {
   "cell_type": "code",
   "execution_count": 7,
   "metadata": {},
   "outputs": [],
   "source": [
    "testdata_gen_args=dict()\n",
    "testGene = testGenerator(testdata_gen_args,PATH + '/Test_Image')"
   ]
  },
  {
   "cell_type": "code",
   "execution_count": 8,
   "metadata": {},
   "outputs": [
    {
     "name": "stderr",
     "output_type": "stream",
     "text": [
      "/home/ravitha/anaconda3/envs/tf-gpu/lib/python3.6/site-packages/ipykernel_launcher.py:75: UserWarning: Update your `Model` call to the Keras 2 API: `Model(inputs=Tensor(\"in..., outputs=Tensor(\"co...)`\n"
     ]
    },
    {
     "name": "stdout",
     "output_type": "stream",
     "text": [
      "Found 11 images belonging to 1 classes.\n"
     ]
    }
   ],
   "source": [
    "model2 = unet()\n",
    "model2.load_weights(\"unet_Final.hdf5\")\n",
    "results = model2.predict_generator(testGene,11,verbose=0)"
   ]
  },
  {
   "cell_type": "code",
   "execution_count": 9,
   "metadata": {},
   "outputs": [],
   "source": [
    "def saveResult(save_path,result):\n",
    "    for (i,img) in enumerate(result):\n",
    "        ####print(img.shape) ----> (512,512,1)\n",
    "        img=img.reshape(512,512)\n",
    "        ####print(img.shape) -----> (512,512)\n",
    "        io.imsave(os.path.join(save_path,\"%d_predict.png\"%i),img)"
   ]
  },
  {
   "cell_type": "code",
   "execution_count": 10,
   "metadata": {},
   "outputs": [
    {
     "name": "stderr",
     "output_type": "stream",
     "text": [
      "/home/ravitha/anaconda3/envs/tf-gpu/lib/python3.6/site-packages/skimage/util/dtype.py:130: UserWarning: Possible precision loss when converting from float32 to uint16\n",
      "  .format(dtypeobj_in, dtypeobj_out))\n"
     ]
    }
   ],
   "source": [
    "saveResult(PATH+'/Results',results)"
   ]
  },
  {
   "cell_type": "code",
   "execution_count": 18,
   "metadata": {},
   "outputs": [
    {
     "data": {
      "text/plain": [
       "<matplotlib.image.AxesImage at 0x7f5bdc7052e8>"
      ]
     },
     "execution_count": 18,
     "metadata": {},
     "output_type": "execute_result"
    },
    {
     "data": {
      "image/png": "[encoded data removed]",
      "text/plain": [
       "<Figure size 432x288 with 1 Axes>"
      ]
     },
     "metadata": {
      "needs_background": "light"
     },
     "output_type": "display_data"
    }
   ],
   "source": [
    "##### Testing for a single image without using testgenerator\n",
    "import skimage.io as io\n",
    "from skimage import color\n",
    "import matplotlib.pyplot as plt\n",
    "I = io.imread(PATH+'/Test_Image/01_7.png')\n",
    "gray = color.rgb2gray(I)\n",
    "io.imshow(gray)"
   ]
  },
  {
   "cell_type": "code",
   "execution_count": 20,
   "metadata": {},
   "outputs": [
    {
     "name": "stderr",
     "output_type": "stream",
     "text": [
      "/home/ravitha/anaconda3/envs/tf-gpu/lib/python3.6/site-packages/ipykernel_launcher.py:75: UserWarning: Update your `Model` call to the Keras 2 API: `Model(inputs=Tensor(\"in..., outputs=Tensor(\"co...)`\n"
     ]
    }
   ],
   "source": [
    "model2 = unet()\n",
    "model2.load_weights(\"unet_Final.hdf5\")\n",
    "results = model2.predict(gray.reshape(1,512,512,1),verbose=0)"
   ]
  },
  {
   "cell_type": "code",
   "execution_count": 21,
   "metadata": {},
   "outputs": [
    {
     "name": "stdout",
     "output_type": "stream",
     "text": [
      "[[[[3.0111656e-02]\n",
      "   [7.8128651e-03]\n",
      "   [3.3485785e-03]\n",
      "   ...\n",
      "   [8.1770010e-03]\n",
      "   [1.7473845e-02]\n",
      "   [8.6401112e-02]]\n",
      "\n",
      "  [[6.1734845e-03]\n",
      "   [9.9943741e-04]\n",
      "   [3.3604060e-04]\n",
      "   ...\n",
      "   [1.5101344e-03]\n",
      "   [1.5428278e-03]\n",
      "   [2.3925604e-02]]\n",
      "\n",
      "  [[6.8414363e-04]\n",
      "   [1.6347172e-04]\n",
      "   [2.0757907e-04]\n",
      "   ...\n",
      "   [8.9907541e-04]\n",
      "   [1.0047561e-03]\n",
      "   [1.1443340e-02]]\n",
      "\n",
      "  ...\n",
      "\n",
      "  [[5.2590680e-01]\n",
      "   [4.5323330e-01]\n",
      "   [4.2837006e-01]\n",
      "   ...\n",
      "   [3.8729820e-03]\n",
      "   [2.7843332e-02]\n",
      "   [4.7485501e-02]]\n",
      "\n",
      "  [[5.1086664e-01]\n",
      "   [5.0918359e-01]\n",
      "   [4.8222941e-01]\n",
      "   ...\n",
      "   [5.2519063e-03]\n",
      "   [1.8556392e-02]\n",
      "   [2.6058955e-02]]\n",
      "\n",
      "  [[4.2314580e-01]\n",
      "   [3.1805182e-01]\n",
      "   [3.6049914e-01]\n",
      "   ...\n",
      "   [2.1511959e-02]\n",
      "   [3.1549897e-02]\n",
      "   [7.9605728e-02]]]]\n"
     ]
    }
   ],
   "source": [
    "print(results)"
   ]
  },
  {
   "cell_type": "code",
   "execution_count": 23,
   "metadata": {},
   "outputs": [
    {
     "ename": "TypeError",
     "evalue": "Invalid dimensions for image data",
     "output_type": "error",
     "traceback": [
      "\u001b[0;31m---------------------------------------------------------------------------\u001b[0m",
      "\u001b[0;31mTypeError\u001b[0m                                 Traceback (most recent call last)",
      "\u001b[0;32m<ipython-input-23-0b6b1dbde9ef>\u001b[0m in \u001b[0;36m<module>\u001b[0;34m\u001b[0m\n\u001b[0;32m----> 1\u001b[0;31m \u001b[0mio\u001b[0m\u001b[0;34m.\u001b[0m\u001b[0mimshow\u001b[0m\u001b[0;34m(\u001b[0m\u001b[0mresults\u001b[0m\u001b[0;34m)\u001b[0m\u001b[0;34m\u001b[0m\u001b[0m\n\u001b[0m",
      "\u001b[0;32m~/anaconda3/envs/tf-gpu/lib/python3.6/site-packages/skimage/io/_io.py\u001b[0m in \u001b[0;36mimshow\u001b[0;34m(arr, plugin, **plugin_args)\u001b[0m\n\u001b[1;32m    164\u001b[0m     \u001b[0;32mif\u001b[0m \u001b[0misinstance\u001b[0m\u001b[0;34m(\u001b[0m\u001b[0marr\u001b[0m\u001b[0;34m,\u001b[0m \u001b[0msix\u001b[0m\u001b[0;34m.\u001b[0m\u001b[0mstring_types\u001b[0m\u001b[0;34m)\u001b[0m\u001b[0;34m:\u001b[0m\u001b[0;34m\u001b[0m\u001b[0m\n\u001b[1;32m    165\u001b[0m         \u001b[0marr\u001b[0m \u001b[0;34m=\u001b[0m \u001b[0mcall_plugin\u001b[0m\u001b[0;34m(\u001b[0m\u001b[0;34m'imread'\u001b[0m\u001b[0;34m,\u001b[0m \u001b[0marr\u001b[0m\u001b[0;34m,\u001b[0m \u001b[0mplugin\u001b[0m\u001b[0;34m=\u001b[0m\u001b[0mplugin\u001b[0m\u001b[0;34m)\u001b[0m\u001b[0;34m\u001b[0m\u001b[0m\n\u001b[0;32m--> 166\u001b[0;31m     \u001b[0;32mreturn\u001b[0m \u001b[0mcall_plugin\u001b[0m\u001b[0;34m(\u001b[0m\u001b[0;34m'imshow'\u001b[0m\u001b[0;34m,\u001b[0m \u001b[0marr\u001b[0m\u001b[0;34m,\u001b[0m \u001b[0mplugin\u001b[0m\u001b[0;34m=\u001b[0m\u001b[0mplugin\u001b[0m\u001b[0;34m,\u001b[0m \u001b[0;34m**\u001b[0m\u001b[0mplugin_args\u001b[0m\u001b[0;34m)\u001b[0m\u001b[0;34m\u001b[0m\u001b[0m\n\u001b[0m\u001b[1;32m    167\u001b[0m \u001b[0;34m\u001b[0m\u001b[0m\n\u001b[1;32m    168\u001b[0m \u001b[0;34m\u001b[0m\u001b[0m\n",
      "\u001b[0;32m~/anaconda3/envs/tf-gpu/lib/python3.6/site-packages/skimage/io/manage_plugins.py\u001b[0m in \u001b[0;36mcall_plugin\u001b[0;34m(kind, *args, **kwargs)\u001b[0m\n\u001b[1;32m    212\u001b[0m                                (plugin, kind))\n\u001b[1;32m    213\u001b[0m \u001b[0;34m\u001b[0m\u001b[0m\n\u001b[0;32m--> 214\u001b[0;31m     \u001b[0;32mreturn\u001b[0m \u001b[0mfunc\u001b[0m\u001b[0;34m(\u001b[0m\u001b[0;34m*\u001b[0m\u001b[0margs\u001b[0m\u001b[0;34m,\u001b[0m \u001b[0;34m**\u001b[0m\u001b[0mkwargs\u001b[0m\u001b[0;34m)\u001b[0m\u001b[0;34m\u001b[0m\u001b[0m\n\u001b[0m\u001b[1;32m    215\u001b[0m \u001b[0;34m\u001b[0m\u001b[0m\n\u001b[1;32m    216\u001b[0m \u001b[0;34m\u001b[0m\u001b[0m\n",
      "\u001b[0;32m~/anaconda3/envs/tf-gpu/lib/python3.6/site-packages/skimage/io/_plugins/matplotlib_plugin.py\u001b[0m in \u001b[0;36mimshow\u001b[0;34m(image, ax, show_cbar, **kwargs)\u001b[0m\n\u001b[1;32m    158\u001b[0m \u001b[0;34m\u001b[0m\u001b[0m\n\u001b[1;32m    159\u001b[0m     \u001b[0max\u001b[0m \u001b[0;34m=\u001b[0m \u001b[0max\u001b[0m \u001b[0;32mor\u001b[0m \u001b[0mplt\u001b[0m\u001b[0;34m.\u001b[0m\u001b[0mgca\u001b[0m\u001b[0;34m(\u001b[0m\u001b[0;34m)\u001b[0m\u001b[0;34m\u001b[0m\u001b[0m\n\u001b[0;32m--> 160\u001b[0;31m     \u001b[0max_im\u001b[0m \u001b[0;34m=\u001b[0m \u001b[0max\u001b[0m\u001b[0;34m.\u001b[0m\u001b[0mimshow\u001b[0m\u001b[0;34m(\u001b[0m\u001b[0mimage\u001b[0m\u001b[0;34m,\u001b[0m \u001b[0;34m**\u001b[0m\u001b[0mkwargs\u001b[0m\u001b[0;34m)\u001b[0m\u001b[0;34m\u001b[0m\u001b[0m\n\u001b[0m\u001b[1;32m    161\u001b[0m     \u001b[0;32mif\u001b[0m \u001b[0;34m(\u001b[0m\u001b[0mcmap\u001b[0m \u001b[0;34m!=\u001b[0m \u001b[0m_default_colormap\u001b[0m \u001b[0;32mand\u001b[0m \u001b[0mshow_cbar\u001b[0m \u001b[0;32mis\u001b[0m \u001b[0;32mnot\u001b[0m \u001b[0;32mFalse\u001b[0m\u001b[0;34m)\u001b[0m \u001b[0;32mor\u001b[0m \u001b[0mshow_cbar\u001b[0m\u001b[0;34m:\u001b[0m\u001b[0;34m\u001b[0m\u001b[0m\n\u001b[1;32m    162\u001b[0m         \u001b[0mdivider\u001b[0m \u001b[0;34m=\u001b[0m \u001b[0mmake_axes_locatable\u001b[0m\u001b[0;34m(\u001b[0m\u001b[0max\u001b[0m\u001b[0;34m)\u001b[0m\u001b[0;34m\u001b[0m\u001b[0m\n",
      "\u001b[0;32m~/anaconda3/envs/tf-gpu/lib/python3.6/site-packages/matplotlib/__init__.py\u001b[0m in \u001b[0;36minner\u001b[0;34m(ax, data, *args, **kwargs)\u001b[0m\n\u001b[1;32m   1808\u001b[0m                         \u001b[0;34m\"the Matplotlib list!)\"\u001b[0m \u001b[0;34m%\u001b[0m \u001b[0;34m(\u001b[0m\u001b[0mlabel_namer\u001b[0m\u001b[0;34m,\u001b[0m \u001b[0mfunc\u001b[0m\u001b[0;34m.\u001b[0m\u001b[0m__name__\u001b[0m\u001b[0;34m)\u001b[0m\u001b[0;34m,\u001b[0m\u001b[0;34m\u001b[0m\u001b[0m\n\u001b[1;32m   1809\u001b[0m                         RuntimeWarning, stacklevel=2)\n\u001b[0;32m-> 1810\u001b[0;31m             \u001b[0;32mreturn\u001b[0m \u001b[0mfunc\u001b[0m\u001b[0;34m(\u001b[0m\u001b[0max\u001b[0m\u001b[0;34m,\u001b[0m \u001b[0;34m*\u001b[0m\u001b[0margs\u001b[0m\u001b[0;34m,\u001b[0m \u001b[0;34m**\u001b[0m\u001b[0mkwargs\u001b[0m\u001b[0;34m)\u001b[0m\u001b[0;34m\u001b[0m\u001b[0m\n\u001b[0m\u001b[1;32m   1811\u001b[0m \u001b[0;34m\u001b[0m\u001b[0m\n\u001b[1;32m   1812\u001b[0m         inner.__doc__ = _add_data_doc(inner.__doc__,\n",
      "\u001b[0;32m~/anaconda3/envs/tf-gpu/lib/python3.6/site-packages/matplotlib/axes/_axes.py\u001b[0m in \u001b[0;36mimshow\u001b[0;34m(self, X, cmap, norm, aspect, interpolation, alpha, vmin, vmax, origin, extent, shape, filternorm, filterrad, imlim, resample, url, **kwargs)\u001b[0m\n\u001b[1;32m   5492\u001b[0m                               resample=resample, **kwargs)\n\u001b[1;32m   5493\u001b[0m \u001b[0;34m\u001b[0m\u001b[0m\n\u001b[0;32m-> 5494\u001b[0;31m         \u001b[0mim\u001b[0m\u001b[0;34m.\u001b[0m\u001b[0mset_data\u001b[0m\u001b[0;34m(\u001b[0m\u001b[0mX\u001b[0m\u001b[0;34m)\u001b[0m\u001b[0;34m\u001b[0m\u001b[0m\n\u001b[0m\u001b[1;32m   5495\u001b[0m         \u001b[0mim\u001b[0m\u001b[0;34m.\u001b[0m\u001b[0mset_alpha\u001b[0m\u001b[0;34m(\u001b[0m\u001b[0malpha\u001b[0m\u001b[0;34m)\u001b[0m\u001b[0;34m\u001b[0m\u001b[0m\n\u001b[1;32m   5496\u001b[0m         \u001b[0;32mif\u001b[0m \u001b[0mim\u001b[0m\u001b[0;34m.\u001b[0m\u001b[0mget_clip_path\u001b[0m\u001b[0;34m(\u001b[0m\u001b[0;34m)\u001b[0m \u001b[0;32mis\u001b[0m \u001b[0;32mNone\u001b[0m\u001b[0;34m:\u001b[0m\u001b[0;34m\u001b[0m\u001b[0m\n",
      "\u001b[0;32m~/anaconda3/envs/tf-gpu/lib/python3.6/site-packages/matplotlib/image.py\u001b[0m in \u001b[0;36mset_data\u001b[0;34m(self, A)\u001b[0m\n\u001b[1;32m    644\u001b[0m         if not (self._A.ndim == 2\n\u001b[1;32m    645\u001b[0m                 or self._A.ndim == 3 and self._A.shape[-1] in [3, 4]):\n\u001b[0;32m--> 646\u001b[0;31m             \u001b[0;32mraise\u001b[0m \u001b[0mTypeError\u001b[0m\u001b[0;34m(\u001b[0m\u001b[0;34m\"Invalid dimensions for image data\"\u001b[0m\u001b[0;34m)\u001b[0m\u001b[0;34m\u001b[0m\u001b[0m\n\u001b[0m\u001b[1;32m    647\u001b[0m \u001b[0;34m\u001b[0m\u001b[0m\n\u001b[1;32m    648\u001b[0m         \u001b[0;32mif\u001b[0m \u001b[0mself\u001b[0m\u001b[0;34m.\u001b[0m\u001b[0m_A\u001b[0m\u001b[0;34m.\u001b[0m\u001b[0mndim\u001b[0m \u001b[0;34m==\u001b[0m \u001b[0;36m3\u001b[0m\u001b[0;34m:\u001b[0m\u001b[0;34m\u001b[0m\u001b[0m\n",
      "\u001b[0;31mTypeError\u001b[0m: Invalid dimensions for image data"
     ]
    },
    {
     "data": {
      "image/png": "[encoded data removed]",
      "text/plain": [
       "<Figure size 432x288 with 1 Axes>"
      ]
     },
     "metadata": {
      "needs_background": "light"
     },
     "output_type": "display_data"
    }
   ],
   "source": []
  },
  {
   "cell_type": "code",
   "execution_count": null,
   "metadata": {},
   "outputs": [],
   "source": []
  }
 ],
 "metadata": {
  "kernelspec": {
   "display_name": "Python 3",
   "language": "python",
   "name": "python3"
  },
  "language_info": {
   "codemirror_mode": {
    "name": "ipython",
    "version": 3
   },
   "file_extension": ".py",
   "mimetype": "text/x-python",
   "name": "python",
   "nbconvert_exporter": "python",
   "pygments_lexer": "ipython3",
   "version": "3.6.7"
  }
 },
 "nbformat": 4,
 "nbformat_minor": 2
}
