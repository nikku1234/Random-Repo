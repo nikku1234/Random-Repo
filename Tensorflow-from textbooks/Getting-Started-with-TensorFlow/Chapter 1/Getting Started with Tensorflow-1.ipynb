{
 "cells": [
  {
   "cell_type": "markdown",
   "metadata": {},
   "source": [
    "### Getting Started with Tensorflow"
   ]
  },
  {
   "cell_type": "code",
   "execution_count": 1,
   "metadata": {},
   "outputs": [
    {
     "name": "stdout",
     "output_type": "stream",
     "text": [
      "10\n"
     ]
    }
   ],
   "source": [
    "x = 1\n",
    "y = x + 9\n",
    "print(y)"
   ]
  },
  {
   "cell_type": "code",
   "execution_count": 5,
   "metadata": {},
   "outputs": [
    {
     "name": "stdout",
     "output_type": "stream",
     "text": [
      "<tf.Variable 'y_3:0' shape=() dtype=int32_ref>\n"
     ]
    }
   ],
   "source": [
    "import tensorflow as tf\n",
    "\n",
    "x = tf.constant(1,name='x')\n",
    "y = tf.Variable(x+9, name='y')\n",
    "print(y)"
   ]
  },
  {
   "cell_type": "code",
   "execution_count": 6,
   "metadata": {},
   "outputs": [
    {
     "name": "stdout",
     "output_type": "stream",
     "text": [
      "WARNING:tensorflow:From /Library/Frameworks/Python.framework/Versions/3.6/lib/python3.6/site-packages/tensorflow/python/util/tf_should_use.py:189: initialize_all_variables (from tensorflow.python.ops.variables) is deprecated and will be removed after 2017-03-02.\n",
      "Instructions for updating:\n",
      "Use `tf.global_variables_initializer` instead.\n",
      "10\n"
     ]
    }
   ],
   "source": [
    "model = tf.initialize_all_variables()\n",
    "\n",
    "with tf.Session() as session:\n",
    "    session.run(model)\n",
    "    print(session.run(y))"
   ]
  },
  {
   "cell_type": "code",
   "execution_count": 7,
   "metadata": {},
   "outputs": [
    {
     "name": "stdout",
     "output_type": "stream",
     "text": [
      "10\n"
     ]
    }
   ],
   "source": [
    "model = tf.global_variables_initializer()\n",
    "with tf.Session() as session:\n",
    "    session.run(model)\n",
    "    print(session.run(y))"
   ]
  },
  {
   "cell_type": "code",
   "execution_count": 18,
   "metadata": {},
   "outputs": [
    {
     "name": "stdout",
     "output_type": "stream",
     "text": [
      "15\n"
     ]
    }
   ],
   "source": [
    "import tensorflow as tf\n",
    "a = tf.placeholder(\"int32\")\n",
    "b = tf.placeholder(\"int32\")\n",
    "c = tf.multiply(a,b)\n",
    "session = tf.Session()\n",
    "print (session.run(c, feed_dict={a:3,b:5}))\n"
   ]
  },
  {
   "cell_type": "code",
   "execution_count": 27,
   "metadata": {},
   "outputs": [
    {
     "name": "stdout",
     "output_type": "stream",
     "text": [
      "32\n"
     ]
    },
    {
     "data": {
      "text/plain": [
       "'Writes Summary protocol buffers to event files.The FileWriter class provides a mechanism to create an \\nevent file in a given directory and add summaries and events to it. The class updates the file contents asynchronously. \\nThis allows a training program to call methods to add data to the file directly from the training loop, without \\nslowing down training.When constructed with a tf.Session parameter, a FileWriter instead forms a compatibility layer \\nover new graph-based summaries (tf.contrib.summary) to facilitate the use of new summary writing with pre-existing\\ncode that expects a FileWriter instance.'"
      ]
     },
     "execution_count": 27,
     "metadata": {},
     "output_type": "execute_result"
    }
   ],
   "source": [
    "import tensorflow as tf\n",
    "\n",
    "a = tf.constant(10,name ='a')\n",
    "b = tf.constant(11,name ='b')\n",
    "y = tf.Variable(a+b*2,name ='y')\n",
    "\n",
    "model = tf.global_variables_initializer()\n",
    "\n",
    "with tf.Session() as session:\n",
    "    merged = tf.summary.merge_all()     #Merges all summaries collected in the default graph.\n",
    "    writer = tf.summary.FileWriter(\"/Users/nikhil/Desktop/TENSORFLOW/Getting-Started-with-TensorFlow-master/Chapter 1/logs\",session.graph)\n",
    "    session.run(model)\n",
    "    print(session.run(y))\n",
    "'''Writes Summary protocol buffers to event files.The FileWriter class provides a mechanism to create an \n",
    "event file in a given directory and add summaries and events to it. The class updates the file contents asynchronously. \n",
    "This allows a training program to call methods to add data to the file directly from the training loop, without \n",
    "slowing down training.When constructed with a tf.Session parameter, a FileWriter instead forms a compatibility layer \n",
    "over new graph-based summaries (tf.contrib.summary) to facilitate the use of new summary writing with pre-existing\n",
    "code that expects a FileWriter instance.'''\n",
    "    \n",
    "    "
   ]
  },
  {
   "cell_type": "code",
   "execution_count": null,
   "metadata": {},
   "outputs": [],
   "source": []
  }
 ],
 "metadata": {
  "kernelspec": {
   "display_name": "Python 3",
   "language": "python",
   "name": "python3"
  },
  "language_info": {
   "codemirror_mode": {
    "name": "ipython",
    "version": 3
   },
   "file_extension": ".py",
   "mimetype": "text/x-python",
   "name": "python",
   "nbconvert_exporter": "python",
   "pygments_lexer": "ipython3",
   "version": "3.6.7"
  }
 },
 "nbformat": 4,
 "nbformat_minor": 2
}
