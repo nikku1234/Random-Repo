{
 "cells": [
  {
   "cell_type": "code",
   "execution_count": 1,
   "metadata": {},
   "outputs": [
    {
     "name": "stderr",
     "output_type": "stream",
     "text": [
      "Using TensorFlow backend.\n"
     ]
    },
    {
     "data": {
      "text/plain": [
       "'2.2.4'"
      ]
     },
     "execution_count": 1,
     "metadata": {},
     "output_type": "execute_result"
    }
   ],
   "source": [
    "import keras\n",
    "keras.__version__"
   ]
  },
  {
   "cell_type": "markdown",
   "metadata": {},
   "source": [
    "# Overfitting and underfitting\n",
    "\n",
    "This notebook contains the code samples found in Chapter 3, Section 6 of [Deep Learning with Python](https://www.manning.com/books/deep-learning-with-python?a_aid=keras&a_bid=76564dff). Note that the original text features far more content, in particular further explanations and figures: in this notebook, you will only find source code and related comments.\n",
    "\n",
    "----\n",
    "\n",
    "\n",
    "In all the examples we saw in the previous chapter -- movie review sentiment prediction, topic classification, and house price regression -- \n",
    "we could notice that the performance of our model on the held-out validation data would always peak after a few epochs and would then start \n",
    "degrading, i.e. our model would quickly start to _overfit_ to the training data. Overfitting happens in every single machine learning \n",
    "problem. Learning how to deal with overfitting is essential to mastering machine learning.\n",
    "\n",
    "The fundamental issue in machine learning is the tension between optimization and generalization. \"Optimization\" refers to the process of \n",
    "adjusting a model to get the best performance possible on the training data (the \"learning\" in \"machine learning\"), while \"generalization\" \n",
    "refers to how well the trained model would perform on data it has never seen before. The goal of the game is to get good generalization, of \n",
    "course, but you do not control generalization; you can only adjust the model based on its training data.\n",
    "\n",
    "At the beginning of training, optimization and generalization are correlated: the lower your loss on training data, the lower your loss on \n",
    "test data. While this is happening, your model is said to be _under-fit_: there is still progress to be made; the network hasn't yet \n",
    "modeled all relevant patterns in the training data. But after a certain number of iterations on the training data, generalization stops \n",
    "improving, validation metrics stall then start degrading: the model is then starting to over-fit, i.e. is it starting to learn patterns \n",
    "that are specific to the training data but that are misleading or irrelevant when it comes to new data.\n",
    "\n",
    "To prevent a model from learning misleading or irrelevant patterns found in the training data, _the best solution is of course to get \n",
    "more training data_. A model trained on more data will naturally generalize better. When that is no longer possible, the next best solution \n",
    "is to modulate the quantity of information that your model is allowed to store, or to add constraints on what information it is allowed to \n",
    "store. If a network can only afford to memorize a small number of patterns, the optimization process will force it to focus on the most \n",
    "prominent patterns, which have a better chance of generalizing well.\n",
    "\n",
    "The processing of fighting overfitting in this way is called _regularization_. Let's review some of the most common regularization \n",
    "techniques, and let's apply them in practice to improve our movie classification model from  the previous chapter."
   ]
  },
  {
   "cell_type": "markdown",
   "metadata": {},
   "source": [
    "Note: in this notebook we will be using the IMDB test set as our validation set. It doesn't matter in this context.\n",
    "\n",
    "Let's prepare the data using the code from Chapter 3, Section 5:"
   ]
  },
  {
   "cell_type": "code",
   "execution_count": 2,
   "metadata": {},
   "outputs": [],
   "source": [
    "from keras.datasets import imdb\n",
    "import numpy as np\n",
    "\n",
    "(train_data, train_labels), (test_data, test_labels) = imdb.load_data(num_words=10000)\n",
    "\n",
    "def vectorize_sequences(sequences, dimension=10000):\n",
    "    # Create an all-zero matrix of shape (len(sequences), dimension)\n",
    "    results = np.zeros((len(sequences), dimension))\n",
    "    for i, sequence in enumerate(sequences):\n",
    "        results[i, sequence] = 1.  # set specific indices of results[i] to 1s\n",
    "    return results\n",
    "\n",
    "# Our vectorized training data\n",
    "x_train = vectorize_sequences(train_data)\n",
    "# Our vectorized test data\n",
    "x_test = vectorize_sequences(test_data)\n",
    "# Our vectorized labels\n",
    "y_train = np.asarray(train_labels).astype('float32')\n",
    "y_test = np.asarray(test_labels).astype('float32')"
   ]
  },
  {
   "cell_type": "markdown",
   "metadata": {},
   "source": [
    "# Fighting overfitting\n",
    "\n",
    "## Reducing the network's size\n",
    "\n",
    "\n",
    "The simplest way to prevent overfitting is to reduce the size of the model, i.e. the number of learnable parameters in the model (which is \n",
    "determined by the number of layers and the number of units per layer). In deep learning, the number of learnable parameters in a model is \n",
    "often referred to as the model's \"capacity\". Intuitively, a model with more parameters will have more \"memorization capacity\" and therefore \n",
    "will be able to easily learn a perfect dictionary-like mapping between training samples and their targets, a mapping without any \n",
    "generalization power. For instance, a model with 500,000 binary parameters could easily be made to learn the class of every digits in the \n",
    "MNIST training set: we would only need 10 binary parameters for each of the 50,000 digits. Such a model would be useless for classifying \n",
    "new digit samples. Always keep this in mind: deep learning models tend to be good at fitting to the training data, but the real challenge \n",
    "is generalization, not fitting.\n",
    "\n",
    "On the other hand, if the network has limited memorization resources, it will not be able to learn this mapping as easily, and thus, in \n",
    "order to minimize its loss, it will have to resort to learning compressed representations that have predictive power regarding the targets \n",
    "-- precisely the type of representations that we are interested in. At the same time, keep in mind that you should be using models that have \n",
    "enough parameters that they won't be underfitting: your model shouldn't be starved for memorization resources. There is a compromise to be \n",
    "found between \"too much capacity\" and \"not enough capacity\".\n",
    "\n",
    "Unfortunately, there is no magical formula to determine what the right number of layers is, or what the right size for each layer is. You \n",
    "will have to evaluate an array of different architectures (on your validation set, not on your test set, of course) in order to find the \n",
    "right model size for your data. The general workflow to find an appropriate model size is to start with relatively few layers and \n",
    "parameters, and start increasing the size of the layers or adding new layers until you see diminishing returns with regard to the \n",
    "validation loss.\n",
    "\n",
    "Let's try this on our movie review classification network. Our original network was as such:"
   ]
  },
  {
   "cell_type": "code",
   "execution_count": 3,
   "metadata": {},
   "outputs": [],
   "source": [
    "from keras import models\n",
    "from keras import layers\n",
    "\n",
    "original_model = models.Sequential()\n",
    "original_model.add(layers.Dense(16, activation='relu', input_shape=(10000,)))\n",
    "original_model.add(layers.Dense(16, activation='relu'))\n",
    "original_model.add(layers.Dense(1, activation='sigmoid'))\n",
    "\n",
    "original_model.compile(optimizer='rmsprop',\n",
    "                       loss='binary_crossentropy',\n",
    "                       metrics=['acc'])"
   ]
  },
  {
   "cell_type": "markdown",
   "metadata": {},
   "source": [
    "Now let's try to replace it with this smaller network:"
   ]
  },
  {
   "cell_type": "code",
   "execution_count": 4,
   "metadata": {},
   "outputs": [],
   "source": [
    "smaller_model = models.Sequential()\n",
    "smaller_model.add(layers.Dense(4, activation='relu', input_shape=(10000,)))\n",
    "smaller_model.add(layers.Dense(4, activation='relu'))\n",
    "smaller_model.add(layers.Dense(1, activation='sigmoid'))\n",
    "\n",
    "smaller_model.compile(optimizer='rmsprop',\n",
    "                      loss='binary_crossentropy',\n",
    "                      metrics=['acc'])"
   ]
  },
  {
   "cell_type": "markdown",
   "metadata": {},
   "source": [
    "\n",
    "Here's a comparison of the validation losses of the original network and the smaller network. The dots are the validation loss values of \n",
    "the smaller network, and the crosses are the initial network (remember: a lower validation loss signals a better model)."
   ]
  },
  {
   "cell_type": "code",
   "execution_count": 5,
   "metadata": {},
   "outputs": [
    {
     "name": "stdout",
     "output_type": "stream",
     "text": [
      "Train on 25000 samples, validate on 25000 samples\n",
      "Epoch 1/20\n",
      "25000/25000 [==============================] - 4s 162us/step - loss: 0.4439 - acc: 0.8246 - val_loss: 0.3287 - val_acc: 0.8847\n",
      "Epoch 2/20\n",
      "25000/25000 [==============================] - 2s 99us/step - loss: 0.2575 - acc: 0.9082 - val_loss: 0.2859 - val_acc: 0.8888\n",
      "Epoch 3/20\n",
      "25000/25000 [==============================] - 2s 99us/step - loss: 0.1991 - acc: 0.9295 - val_loss: 0.2822 - val_acc: 0.8885\n",
      "Epoch 4/20\n",
      "25000/25000 [==============================] - 2s 98us/step - loss: 0.1661 - acc: 0.9419 - val_loss: 0.2940 - val_acc: 0.8844\n",
      "Epoch 5/20\n",
      "25000/25000 [==============================] - 3s 101us/step - loss: 0.1421 - acc: 0.9505 - val_loss: 0.3124 - val_acc: 0.8807\n",
      "Epoch 6/20\n",
      "25000/25000 [==============================] - 2s 100us/step - loss: 0.1241 - acc: 0.9566 - val_loss: 0.3517 - val_acc: 0.8719\n",
      "Epoch 7/20\n",
      "25000/25000 [==============================] - 2s 98us/step - loss: 0.1092 - acc: 0.9626 - val_loss: 0.3594 - val_acc: 0.8734\n",
      "Epoch 8/20\n",
      "25000/25000 [==============================] - 2s 98us/step - loss: 0.0956 - acc: 0.9679 - val_loss: 0.3972 - val_acc: 0.8662\n",
      "Epoch 9/20\n",
      "25000/25000 [==============================] - 2s 96us/step - loss: 0.0816 - acc: 0.9734 - val_loss: 0.4334 - val_acc: 0.8614\n",
      "Epoch 10/20\n",
      "25000/25000 [==============================] - 2s 97us/step - loss: 0.0729 - acc: 0.9770 - val_loss: 0.5005 - val_acc: 0.8540\n",
      "Epoch 11/20\n",
      "25000/25000 [==============================] - 2s 98us/step - loss: 0.0655 - acc: 0.9794 - val_loss: 0.4855 - val_acc: 0.8602\n",
      "Epoch 12/20\n",
      "25000/25000 [==============================] - 2s 98us/step - loss: 0.0531 - acc: 0.9840 - val_loss: 0.5241 - val_acc: 0.8572\n",
      "Epoch 13/20\n",
      "25000/25000 [==============================] - 2s 99us/step - loss: 0.0479 - acc: 0.9855 - val_loss: 0.5359 - val_acc: 0.8589\n",
      "Epoch 14/20\n",
      "25000/25000 [==============================] - 2s 98us/step - loss: 0.0388 - acc: 0.9891 - val_loss: 0.6231 - val_acc: 0.8494\n",
      "Epoch 15/20\n",
      "25000/25000 [==============================] - 2s 97us/step - loss: 0.0333 - acc: 0.9901 - val_loss: 0.6165 - val_acc: 0.8552\n",
      "Epoch 16/20\n",
      "25000/25000 [==============================] - 3s 108us/step - loss: 0.0276 - acc: 0.9928 - val_loss: 0.6498 - val_acc: 0.8550\n",
      "Epoch 17/20\n",
      "25000/25000 [==============================] - 3s 111us/step - loss: 0.0241 - acc: 0.9935 - val_loss: 0.7995 - val_acc: 0.8402\n",
      "Epoch 18/20\n",
      "25000/25000 [==============================] - 2s 98us/step - loss: 0.0178 - acc: 0.9962 - val_loss: 0.7273 - val_acc: 0.8517\n",
      "Epoch 19/20\n",
      "25000/25000 [==============================] - 2s 99us/step - loss: 0.0179 - acc: 0.9952 - val_loss: 0.7984 - val_acc: 0.8464\n",
      "Epoch 20/20\n",
      "25000/25000 [==============================] - 2s 97us/step - loss: 0.0137 - acc: 0.9966 - val_loss: 0.8053 - val_acc: 0.8496\n"
     ]
    }
   ],
   "source": [
    "original_hist = original_model.fit(x_train, y_train,\n",
    "                                   epochs=20,\n",
    "                                   batch_size=512,\n",
    "                                   validation_data=(x_test, y_test))"
   ]
  },
  {
   "cell_type": "code",
   "execution_count": 6,
   "metadata": {},
   "outputs": [
    {
     "name": "stdout",
     "output_type": "stream",
     "text": [
      "Train on 25000 samples, validate on 25000 samples\n",
      "Epoch 1/20\n",
      "25000/25000 [==============================] - 3s 105us/step - loss: 0.5808 - acc: 0.7009 - val_loss: 0.5310 - val_acc: 0.7558\n",
      "Epoch 2/20\n",
      "25000/25000 [==============================] - 2s 96us/step - loss: 0.4844 - acc: 0.8455 - val_loss: 0.4874 - val_acc: 0.8290\n",
      "Epoch 3/20\n",
      "25000/25000 [==============================] - 2s 95us/step - loss: 0.4390 - acc: 0.8924 - val_loss: 0.4666 - val_acc: 0.8497\n",
      "Epoch 4/20\n",
      "25000/25000 [==============================] - 2s 96us/step - loss: 0.4077 - acc: 0.9154 - val_loss: 0.4532 - val_acc: 0.8644\n",
      "Epoch 5/20\n",
      "25000/25000 [==============================] - 2s 96us/step - loss: 0.3831 - acc: 0.9308 - val_loss: 0.4510 - val_acc: 0.8623\n",
      "Epoch 6/20\n",
      "25000/25000 [==============================] - 2s 99us/step - loss: 0.3617 - acc: 0.9417 - val_loss: 0.4443 - val_acc: 0.8702\n",
      "Epoch 7/20\n",
      "25000/25000 [==============================] - 3s 105us/step - loss: 0.3425 - acc: 0.9520 - val_loss: 0.4607 - val_acc: 0.8605\n",
      "Epoch 8/20\n",
      "25000/25000 [==============================] - 3s 127us/step - loss: 0.3262 - acc: 0.9560 - val_loss: 0.4516 - val_acc: 0.8674\n",
      "Epoch 9/20\n",
      "25000/25000 [==============================] - 3s 114us/step - loss: 0.3100 - acc: 0.9616 - val_loss: 0.4742 - val_acc: 0.8599\n",
      "Epoch 10/20\n",
      "25000/25000 [==============================] - 2s 94us/step - loss: 0.2957 - acc: 0.9648 - val_loss: 0.4862 - val_acc: 0.8582\n",
      "Epoch 11/20\n",
      "25000/25000 [==============================] - 2s 92us/step - loss: 0.2814 - acc: 0.9698 - val_loss: 0.4841 - val_acc: 0.8601\n",
      "Epoch 12/20\n",
      "25000/25000 [==============================] - 2s 92us/step - loss: 0.2686 - acc: 0.9716 - val_loss: 0.4794 - val_acc: 0.8627\n",
      "Epoch 13/20\n",
      "25000/25000 [==============================] - 2s 94us/step - loss: 0.2564 - acc: 0.9747 - val_loss: 0.5096 - val_acc: 0.8592\n",
      "Epoch 14/20\n",
      "25000/25000 [==============================] - 2s 93us/step - loss: 0.2450 - acc: 0.9765 - val_loss: 0.5444 - val_acc: 0.8554\n",
      "Epoch 15/20\n",
      "25000/25000 [==============================] - 2s 92us/step - loss: 0.2336 - acc: 0.9784 - val_loss: 0.5169 - val_acc: 0.8598\n",
      "Epoch 16/20\n",
      "25000/25000 [==============================] - 3s 120us/step - loss: 0.2234 - acc: 0.9803 - val_loss: 0.5326 - val_acc: 0.8584\n",
      "Epoch 17/20\n",
      "25000/25000 [==============================] - 3s 105us/step - loss: 0.2144 - acc: 0.9813 - val_loss: 0.5773 - val_acc: 0.8539\n",
      "Epoch 18/20\n",
      "25000/25000 [==============================] - 3s 132us/step - loss: 0.2048 - acc: 0.9826 - val_loss: 0.6473 - val_acc: 0.8492\n",
      "Epoch 19/20\n",
      "25000/25000 [==============================] - 3s 118us/step - loss: 0.1959 - acc: 0.9837 - val_loss: 0.5883 - val_acc: 0.8527\n",
      "Epoch 20/20\n",
      "25000/25000 [==============================] - 3s 111us/step - loss: 0.1881 - acc: 0.9843 - val_loss: 0.5908 - val_acc: 0.8534\n"
     ]
    }
   ],
   "source": [
    "smaller_model_hist = smaller_model.fit(x_train, y_train,\n",
    "                                       epochs=20,\n",
    "                                       batch_size=512,\n",
    "                                       validation_data=(x_test, y_test))"
   ]
  },
  {
   "cell_type": "code",
   "execution_count": 10,
   "metadata": {},
   "outputs": [],
   "source": [
    "epochs = range(1, 21)\n",
    "original_val_loss = original_hist.history['val_loss']\n",
    "smaller_model_val_loss = smaller_model_hist.history['val_loss']"
   ]
  },
  {
   "cell_type": "code",
   "execution_count": 11,
   "metadata": {},
   "outputs": [
    {
     "data": {
      "image/png": "[encoded data removed]",
      "text/plain": [
       "<Figure size 432x288 with 1 Axes>"
      ]
     },
     "metadata": {
      "needs_background": "light"
     },
     "output_type": "display_data"
    }
   ],
   "source": [
    "import matplotlib.pyplot as plt\n",
    "\n",
    "# b+ is for \"blue cross\"\n",
    "plt.plot(epochs, original_val_loss, 'b+', label='Original model')\n",
    "# \"bo\" is for \"blue dot\"\n",
    "plt.plot(epochs, smaller_model_val_loss, 'bo', label='Smaller model')\n",
    "plt.xlabel('Epochs')\n",
    "plt.ylabel('Validation loss')\n",
    "plt.legend()\n",
    "\n",
    "plt.show()"
   ]
  },
  {
   "cell_type": "markdown",
   "metadata": {},
   "source": [
    "\n",
    "As you can see, the smaller network starts overfitting later than the reference one (after 6 epochs rather than 4) and its performance \n",
    "degrades much more slowly once it starts overfitting.\n",
    "\n",
    "Now, for kicks, let's add to this benchmark a network that has much more capacity, far more than the problem would warrant:"
   ]
  },
  {
   "cell_type": "code",
   "execution_count": 12,
   "metadata": {},
   "outputs": [],
   "source": [
    "bigger_model = models.Sequential()\n",
    "bigger_model.add(layers.Dense(512, activation='relu', input_shape=(10000,)))\n",
    "bigger_model.add(layers.Dense(512, activation='relu'))\n",
    "bigger_model.add(layers.Dense(1, activation='sigmoid'))\n",
    "\n",
    "bigger_model.compile(optimizer='rmsprop',\n",
    "                     loss='binary_crossentropy',\n",
    "                     metrics=['acc'])"
   ]
  },
  {
   "cell_type": "code",
   "execution_count": 13,
   "metadata": {},
   "outputs": [
    {
     "name": "stdout",
     "output_type": "stream",
     "text": [
      "Train on 25000 samples, validate on 25000 samples\n",
      "Epoch 1/20\n",
      "25000/25000 [==============================] - 10s 392us/step - loss: 0.4535 - acc: 0.8029 - val_loss: 0.2780 - val_acc: 0.8887\n",
      "Epoch 2/20\n",
      "25000/25000 [==============================] - 9s 374us/step - loss: 0.2240 - acc: 0.9126 - val_loss: 0.2858 - val_acc: 0.8838\n",
      "Epoch 3/20\n",
      "25000/25000 [==============================] - 9s 366us/step - loss: 0.1340 - acc: 0.9486 - val_loss: 0.3027 - val_acc: 0.8811\n",
      "Epoch 4/20\n",
      "25000/25000 [==============================] - 9s 368us/step - loss: 0.0676 - acc: 0.9792 - val_loss: 0.5462 - val_acc: 0.8600\n",
      "Epoch 5/20\n",
      "25000/25000 [==============================] - 9s 367us/step - loss: 0.0702 - acc: 0.9867 - val_loss: 0.4430 - val_acc: 0.8796\n",
      "Epoch 6/20\n",
      "25000/25000 [==============================] - 9s 368us/step - loss: 0.0469 - acc: 0.9931 - val_loss: 1.9058 - val_acc: 0.7312\n",
      "Epoch 7/20\n",
      "25000/25000 [==============================] - 9s 364us/step - loss: 0.0176 - acc: 0.9965 - val_loss: 0.6614 - val_acc: 0.8784\n",
      "Epoch 8/20\n",
      "25000/25000 [==============================] - 9s 374us/step - loss: 2.6309e-04 - acc: 1.0000 - val_loss: 0.7744 - val_acc: 0.8784\n",
      "Epoch 9/20\n",
      "25000/25000 [==============================] - 9s 364us/step - loss: 0.0850 - acc: 0.9890 - val_loss: 0.7280 - val_acc: 0.8780\n",
      "Epoch 10/20\n",
      "25000/25000 [==============================] - 9s 373us/step - loss: 9.2854e-05 - acc: 1.0000 - val_loss: 0.7946 - val_acc: 0.8784\n",
      "Epoch 11/20\n",
      "25000/25000 [==============================] - 9s 374us/step - loss: 1.9407e-05 - acc: 1.0000 - val_loss: 0.8793 - val_acc: 0.8783\n",
      "Epoch 12/20\n",
      "25000/25000 [==============================] - 9s 370us/step - loss: 3.4552e-06 - acc: 1.0000 - val_loss: 0.9699 - val_acc: 0.8766\n",
      "Epoch 13/20\n",
      "25000/25000 [==============================] - 9s 374us/step - loss: 6.5323e-07 - acc: 1.0000 - val_loss: 1.0293 - val_acc: 0.8776\n",
      "Epoch 14/20\n",
      "25000/25000 [==============================] - 10s 382us/step - loss: 1.9145e-07 - acc: 1.0000 - val_loss: 1.0779 - val_acc: 0.8776\n",
      "Epoch 15/20\n",
      "25000/25000 [==============================] - 10s 389us/step - loss: 1.3041e-07 - acc: 1.0000 - val_loss: 1.1040 - val_acc: 0.8778\n",
      "Epoch 16/20\n",
      "25000/25000 [==============================] - 9s 370us/step - loss: 1.1862e-07 - acc: 1.0000 - val_loss: 1.1177 - val_acc: 0.8779\n",
      "Epoch 17/20\n",
      "25000/25000 [==============================] - 9s 375us/step - loss: 1.1484e-07 - acc: 1.0000 - val_loss: 1.1261 - val_acc: 0.8777\n",
      "Epoch 18/20\n",
      "25000/25000 [==============================] - 9s 375us/step - loss: 1.1300e-07 - acc: 1.0000 - val_loss: 1.1328 - val_acc: 0.8778\n",
      "Epoch 19/20\n",
      "25000/25000 [==============================] - 9s 378us/step - loss: 1.1201e-07 - acc: 1.0000 - val_loss: 1.1373 - val_acc: 0.8775\n",
      "Epoch 20/20\n",
      "25000/25000 [==============================] - 9s 373us/step - loss: 1.1143e-07 - acc: 1.0000 - val_loss: 1.1415 - val_acc: 0.8774\n"
     ]
    }
   ],
   "source": [
    "bigger_model_hist = bigger_model.fit(x_train, y_train,\n",
    "                                     epochs=20,\n",
    "                                     batch_size=512,\n",
    "                                     validation_data=(x_test, y_test))"
   ]
  },
  {
   "cell_type": "markdown",
   "metadata": {},
   "source": [
    "Here's how the bigger network fares compared to the reference one. The dots are the validation loss values of the bigger network, and the \n",
    "crosses are the initial network."
   ]
  },
  {
   "cell_type": "code",
   "execution_count": 14,
   "metadata": {},
   "outputs": [
    {
     "data": {
      "image/png": "[encoded data removed]",
      "text/plain": [
       "<Figure size 432x288 with 1 Axes>"
      ]
     },
     "metadata": {
      "needs_background": "light"
     },
     "output_type": "display_data"
    }
   ],
   "source": [
    "bigger_model_val_loss = bigger_model_hist.history['val_loss']\n",
    "\n",
    "plt.plot(epochs, original_val_loss, 'b+', label='Original model')\n",
    "plt.plot(epochs, bigger_model_val_loss, 'bo', label='Bigger model')\n",
    "plt.xlabel('Epochs')\n",
    "plt.ylabel('Validation loss')\n",
    "plt.legend()\n",
    "\n",
    "plt.show()"
   ]
  },
  {
   "cell_type": "markdown",
   "metadata": {},
   "source": [
    "\n",
    "The bigger network starts overfitting almost right away, after just one epoch, and overfits much more severely. Its validation loss is also \n",
    "more noisy.\n",
    "\n",
    "Meanwhile, here are the training losses for our two networks:"
   ]
  },
  {
   "cell_type": "code",
   "execution_count": 15,
   "metadata": {},
   "outputs": [
    {
     "data": {
      "image/png": "[encoded data removed]",
      "text/plain": [
       "<Figure size 432x288 with 1 Axes>"
      ]
     },
     "metadata": {
      "needs_background": "light"
     },
     "output_type": "display_data"
    }
   ],
   "source": [
    "original_train_loss = original_hist.history['loss']\n",
    "bigger_model_train_loss = bigger_model_hist.history['loss']\n",
    "\n",
    "plt.plot(epochs, original_train_loss, 'b+', label='Original model')\n",
    "plt.plot(epochs, bigger_model_train_loss, 'bo', label='Bigger model')\n",
    "plt.xlabel('Epochs')\n",
    "plt.ylabel('Training loss')\n",
    "plt.legend()\n",
    "\n",
    "plt.show()"
   ]
  },
  {
   "cell_type": "markdown",
   "metadata": {},
   "source": [
    "As you can see, the bigger network gets its training loss near zero very quickly. The more capacity the network has, the quicker it will be \n",
    "able to model the training data (resulting in a low training loss), but the more susceptible it is to overfitting (resulting in a large \n",
    "difference between the training and validation loss)."
   ]
  },
  {
   "cell_type": "markdown",
   "metadata": {},
   "source": [
    "## Adding weight regularization\n",
    "\n",
    "\n",
    "You may be familiar with _Occam's Razor_ principle: given two explanations for something, the explanation most likely to be correct is the \n",
    "\"simplest\" one, the one that makes the least amount of assumptions. This also applies to the models learned by neural networks: given some \n",
    "training data and a network architecture, there are multiple sets of weights values (multiple _models_) that could explain the data, and \n",
    "simpler models are less likely to overfit than complex ones.\n",
    "\n",
    "A \"simple model\" in this context is a model where the distribution of parameter values has less entropy (or a model with fewer \n",
    "parameters altogether, as we saw in the section above). Thus a common way to mitigate overfitting is to put constraints on the complexity \n",
    "of a network by forcing its weights to only take small values, which makes the distribution of weight values more \"regular\". This is called \n",
    "\"weight regularization\", and it is done by adding to the loss function of the network a _cost_ associated with having large weights. This \n",
    "cost comes in two flavors:\n",
    "\n",
    "* L1 regularization, where the cost added is proportional to the _absolute value of the weights coefficients_ (i.e. to what is called the \n",
    "\"L1 norm\" of the weights).\n",
    "* L2 regularization, where the cost added is proportional to the _square of the value of the weights coefficients_ (i.e. to what is called \n",
    "the \"L2 norm\" of the weights). L2 regularization is also called _weight decay_ in the context of neural networks. Don't let the different \n",
    "name confuse you: weight decay is mathematically the exact same as L2 regularization.\n",
    "\n",
    "In Keras, weight regularization is added by passing _weight regularizer instances_ to layers as keyword arguments. Let's add L2 weight \n",
    "regularization to our movie review classification network:"
   ]
  },
  {
   "cell_type": "code",
   "execution_count": 16,
   "metadata": {},
   "outputs": [],
   "source": [
    "from keras import regularizers\n",
    "\n",
    "l2_model = models.Sequential()\n",
    "l2_model.add(layers.Dense(16, kernel_regularizer=regularizers.l2(0.001),\n",
    "                          activation='relu', input_shape=(10000,)))\n",
    "l2_model.add(layers.Dense(16, kernel_regularizer=regularizers.l2(0.001),\n",
    "                          activation='relu'))\n",
    "l2_model.add(layers.Dense(1, activation='sigmoid'))"
   ]
  },
  {
   "cell_type": "code",
   "execution_count": 17,
   "metadata": {},
   "outputs": [],
   "source": [
    "l2_model.compile(optimizer='rmsprop',\n",
    "                 loss='binary_crossentropy',\n",
    "                 metrics=['acc'])"
   ]
  },
  {
   "cell_type": "markdown",
   "metadata": {},
   "source": [
    "`l2(0.001)` means that every coefficient in the weight matrix of the layer will add `0.001 * weight_coefficient_value` to the total loss of \n",
    "the network. Note that because this penalty is _only added at training time_, the loss for this network will be much higher at training \n",
    "than at test time.\n",
    "\n",
    "Here's the impact of our L2 regularization penalty:"
   ]
  },
  {
   "cell_type": "code",
   "execution_count": 18,
   "metadata": {},
   "outputs": [
    {
     "name": "stdout",
     "output_type": "stream",
     "text": [
      "Train on 25000 samples, validate on 25000 samples\n",
      "Epoch 1/20\n",
      "25000/25000 [==============================] - 3s 115us/step - loss: 0.4885 - acc: 0.8153 - val_loss: 0.3901 - val_acc: 0.8652\n",
      "Epoch 2/20\n",
      "25000/25000 [==============================] - 3s 101us/step - loss: 0.3102 - acc: 0.9057 - val_loss: 0.3305 - val_acc: 0.8890\n",
      "Epoch 3/20\n",
      "25000/25000 [==============================] - 2s 95us/step - loss: 0.2653 - acc: 0.9205 - val_loss: 0.3290 - val_acc: 0.8873\n",
      "Epoch 4/20\n",
      "25000/25000 [==============================] - 2s 96us/step - loss: 0.2450 - acc: 0.9290 - val_loss: 0.3405 - val_acc: 0.8819\n",
      "Epoch 5/20\n",
      "25000/25000 [==============================] - 2s 96us/step - loss: 0.2313 - acc: 0.9354 - val_loss: 0.3810 - val_acc: 0.8683\n",
      "Epoch 6/20\n",
      "25000/25000 [==============================] - 2s 97us/step - loss: 0.2227 - acc: 0.9391 - val_loss: 0.3651 - val_acc: 0.8756\n",
      "Epoch 7/20\n",
      "25000/25000 [==============================] - 2s 96us/step - loss: 0.2158 - acc: 0.9411 - val_loss: 0.3763 - val_acc: 0.8734\n",
      "Epoch 8/20\n",
      "25000/25000 [==============================] - 3s 101us/step - loss: 0.2096 - acc: 0.9446 - val_loss: 0.3736 - val_acc: 0.8758\n",
      "Epoch 9/20\n",
      "25000/25000 [==============================] - 2s 95us/step - loss: 0.2035 - acc: 0.9462 - val_loss: 0.3758 - val_acc: 0.8752\n",
      "Epoch 10/20\n",
      "25000/25000 [==============================] - 2s 99us/step - loss: 0.1999 - acc: 0.9503 - val_loss: 0.3821 - val_acc: 0.8749\n",
      "Epoch 11/20\n",
      "25000/25000 [==============================] - 2s 100us/step - loss: 0.1943 - acc: 0.9495 - val_loss: 0.3838 - val_acc: 0.8758\n",
      "Epoch 12/20\n",
      "25000/25000 [==============================] - 3s 100us/step - loss: 0.1916 - acc: 0.9509 - val_loss: 0.3939 - val_acc: 0.8740\n",
      "Epoch 13/20\n",
      "25000/25000 [==============================] - 3s 101us/step - loss: 0.1873 - acc: 0.9539 - val_loss: 0.3962 - val_acc: 0.8729\n",
      "Epoch 14/20\n",
      "25000/25000 [==============================] - 3s 100us/step - loss: 0.1816 - acc: 0.9563 - val_loss: 0.4329 - val_acc: 0.8634\n",
      "Epoch 15/20\n",
      "25000/25000 [==============================] - 2s 97us/step - loss: 0.1817 - acc: 0.9568 - val_loss: 0.4443 - val_acc: 0.8601\n",
      "Epoch 16/20\n",
      "25000/25000 [==============================] - 2s 97us/step - loss: 0.1758 - acc: 0.9582 - val_loss: 0.4464 - val_acc: 0.8640\n",
      "Epoch 17/20\n",
      "25000/25000 [==============================] - 3s 101us/step - loss: 0.1718 - acc: 0.9606 - val_loss: 0.4205 - val_acc: 0.8702\n",
      "Epoch 18/20\n",
      "25000/25000 [==============================] - 3s 101us/step - loss: 0.1697 - acc: 0.9610 - val_loss: 0.4337 - val_acc: 0.8684\n",
      "Epoch 19/20\n",
      "25000/25000 [==============================] - 3s 101us/step - loss: 0.1651 - acc: 0.9639 - val_loss: 0.4440 - val_acc: 0.8652\n",
      "Epoch 20/20\n",
      "25000/25000 [==============================] - 3s 102us/step - loss: 0.1624 - acc: 0.9645 - val_loss: 0.4313 - val_acc: 0.8688\n"
     ]
    }
   ],
   "source": [
    "l2_model_hist = l2_model.fit(x_train, y_train,\n",
    "                             epochs=20,\n",
    "                             batch_size=512,\n",
    "                             validation_data=(x_test, y_test))"
   ]
  },
  {
   "cell_type": "code",
   "execution_count": 25,
   "metadata": {},
   "outputs": [
    {
     "data": {
      "image/png": "[encoded data removed]",
      "text/plain": [
       "<Figure size 432x288 with 1 Axes>"
      ]
     },
     "metadata": {
      "needs_background": "light"
     },
     "output_type": "display_data"
    }
   ],
   "source": [
    "l2_model_val_loss = l2_model_hist.history['val_loss']\n",
    "\n",
    "plt.plot(epochs, original_val_loss, 'b+', label='Original model')\n",
    "plt.plot(epochs, l2_model_val_loss, 'bo', label='L2-regularized model')\n",
    "plt.xlabel('Epochs')\n",
    "plt.ylabel('Validation loss')\n",
    "plt.legend()\n",
    "\n",
    "plt.show()"
   ]
  },
  {
   "cell_type": "markdown",
   "metadata": {},
   "source": [
    "\n",
    "\n",
    "As you can see, the model with L2 regularization (dots) has become much more resistant to overfitting than the reference model (crosses), \n",
    "even though both models have the same number of parameters.\n",
    "\n",
    "As alternatives to L2 regularization, you could use one of the following Keras weight regularizers:"
   ]
  },
  {
   "cell_type": "code",
   "execution_count": 26,
   "metadata": {},
   "outputs": [
    {
     "data": {
      "text/plain": [
       "<keras.regularizers.L1L2 at 0x1037a0c88>"
      ]
     },
     "execution_count": 26,
     "metadata": {},
     "output_type": "execute_result"
    }
   ],
   "source": [
    "from keras import regularizers\n",
    "\n",
    "# L1 regularization\n",
    "regularizers.l1(0.001)\n",
    "\n",
    "# L1 and L2 regularization at the same time\n",
    "regularizers.l1_l2(l1=0.001, l2=0.001)"
   ]
  },
  {
   "cell_type": "code",
   "execution_count": 30,
   "metadata": {},
   "outputs": [
    {
     "ename": "NameError",
     "evalue": "name 'layer_output' is not defined",
     "output_type": "error",
     "traceback": [
      "\u001b[0;31m---------------------------------------------------------------------------\u001b[0m",
      "\u001b[0;31mNameError\u001b[0m                                 Traceback (most recent call last)",
      "\u001b[0;32m<ipython-input-30-270baa8aef29>\u001b[0m in \u001b[0;36m<module>\u001b[0;34m\u001b[0m\n\u001b[0;32m----> 1\u001b[0;31m \u001b[0mlayer_output\u001b[0m\u001b[0;34m\u001b[0m\u001b[0;34m\u001b[0m\u001b[0m\n\u001b[0m",
      "\u001b[0;31mNameError\u001b[0m: name 'layer_output' is not defined"
     ]
    }
   ],
   "source": [
    "layer_output"
   ]
  },
  {
   "cell_type": "markdown",
   "metadata": {},
   "source": [
    "## Adding dropout\n",
    "\n",
    "\n",
    "Dropout is one of the most effective and most commonly used regularization techniques for neural networks, developed by Hinton and his \n",
    "students at the University of Toronto. Dropout, applied to a layer, consists of randomly \"dropping out\" (i.e. setting to zero) a number of \n",
    "output features of the layer during training. Let's say a given layer would normally have returned a vector `[0.2, 0.5, 1.3, 0.8, 1.1]` for a \n",
    "given input sample during training; after applying dropout, this vector will have a few zero entries distributed at random, e.g. `[0, 0.5, \n",
    "1.3, 0, 1.1]`. The \"dropout rate\" is the fraction of the features that are being zeroed-out; it is usually set between 0.2 and 0.5. At test \n",
    "time, no units are dropped out, and instead the layer's output values are scaled down by a factor equal to the dropout rate, so as to \n",
    "balance for the fact that more units are active than at training time.\n",
    "\n",
    "Consider a Numpy matrix containing the output of a layer, `layer_output`, of shape `(batch_size, features)`. At training time, we would be \n",
    "zero-ing out at random a fraction of the values in the matrix:"
   ]
  },
  {
   "cell_type": "code",
   "execution_count": 29,
   "metadata": {},
   "outputs": [
    {
     "ename": "NameError",
     "evalue": "name 'layer_output' is not defined",
     "output_type": "error",
     "traceback": [
      "\u001b[0;31m---------------------------------------------------------------------------\u001b[0m",
      "\u001b[0;31mNameError\u001b[0m                                 Traceback (most recent call last)",
      "\u001b[0;32m<ipython-input-29-f1f187ff4a2c>\u001b[0m in \u001b[0;36m<module>\u001b[0;34m\u001b[0m\n\u001b[1;32m      1\u001b[0m \u001b[0;31m# At training time: we drop out 50% of the units in the output\u001b[0m\u001b[0;34m\u001b[0m\u001b[0;34m\u001b[0m\u001b[0;34m\u001b[0m\u001b[0m\n\u001b[0;32m----> 2\u001b[0;31m \u001b[0mlayer_output\u001b[0m \u001b[0;34m*=\u001b[0m \u001b[0mnp\u001b[0m\u001b[0;34m.\u001b[0m\u001b[0mrandint\u001b[0m\u001b[0;34m(\u001b[0m\u001b[0;36m0\u001b[0m\u001b[0;34m,\u001b[0m \u001b[0mhigh\u001b[0m\u001b[0;34m=\u001b[0m\u001b[0;36m2\u001b[0m\u001b[0;34m,\u001b[0m \u001b[0msize\u001b[0m\u001b[0;34m=\u001b[0m\u001b[0mlayer_output\u001b[0m\u001b[0;34m.\u001b[0m\u001b[0mshape\u001b[0m\u001b[0;34m)\u001b[0m\u001b[0;34m\u001b[0m\u001b[0;34m\u001b[0m\u001b[0m\n\u001b[0m",
      "\u001b[0;31mNameError\u001b[0m: name 'layer_output' is not defined"
     ]
    }
   ],
   "source": [
    "# At training time: we drop out 50% of the units in the output\n",
    "layer_output *= np.randint(0, high=2, size=layer_output.shape)"
   ]
  },
  {
   "cell_type": "markdown",
   "metadata": {},
   "source": [
    "\n",
    "At test time, we would be scaling the output down by the dropout rate. Here we scale by 0.5 (because we were previous dropping half the \n",
    "units):"
   ]
  },
  {
   "cell_type": "code",
   "execution_count": 28,
   "metadata": {},
   "outputs": [
    {
     "ename": "NameError",
     "evalue": "name 'layer_output' is not defined",
     "output_type": "error",
     "traceback": [
      "\u001b[0;31m---------------------------------------------------------------------------\u001b[0m",
      "\u001b[0;31mNameError\u001b[0m                                 Traceback (most recent call last)",
      "\u001b[0;32m<ipython-input-28-bfeb0a27d9eb>\u001b[0m in \u001b[0;36m<module>\u001b[0;34m\u001b[0m\n\u001b[1;32m      1\u001b[0m \u001b[0;31m# At test time:\u001b[0m\u001b[0;34m\u001b[0m\u001b[0;34m\u001b[0m\u001b[0;34m\u001b[0m\u001b[0m\n\u001b[0;32m----> 2\u001b[0;31m \u001b[0mlayer_output\u001b[0m \u001b[0;34m*=\u001b[0m \u001b[0;36m0.5\u001b[0m\u001b[0;34m\u001b[0m\u001b[0;34m\u001b[0m\u001b[0m\n\u001b[0m",
      "\u001b[0;31mNameError\u001b[0m: name 'layer_output' is not defined"
     ]
    }
   ],
   "source": [
    "# At test time:\n",
    "layer_output *= 0.5"
   ]
  },
  {
   "cell_type": "markdown",
   "metadata": {},
   "source": [
    "\n",
    "Note that this process can be implemented by doing both operations at training time and leaving the output unchanged at test time, which is \n",
    "often the way it is implemented in practice:"
   ]
  },
  {
   "cell_type": "code",
   "execution_count": null,
   "metadata": {
    "collapsed": true
   },
   "outputs": [],
   "source": [
    "# At training time:\n",
    "layer_output *= np.randint(0, high=2, size=layer_output.shape)\n",
    "# Note that we are scaling *up* rather scaling *down* in this case\n",
    "layer_output /= 0.5"
   ]
  },
  {
   "cell_type": "markdown",
   "metadata": {},
   "source": [
    "\n",
    "This technique may seem strange and arbitrary. Why would this help reduce overfitting? Geoff Hinton has said that he was inspired, among \n",
    "other things, by a fraud prevention mechanism used by banks -- in his own words: _\"I went to my bank. The tellers kept changing and I asked \n",
    "one of them why. He said he didn’t know but they got moved around a lot. I figured it must be because it would require cooperation \n",
    "between employees to successfully defraud the bank. This made me realize that randomly removing a different subset of neurons on each \n",
    "example would prevent conspiracies and thus reduce overfitting\"_.\n",
    "\n",
    "The core idea is that introducing noise in the output values of a layer can break up happenstance patterns that are not significant (what \n",
    "Hinton refers to as \"conspiracies\"), which the network would start memorizing if no noise was present. \n",
    "\n",
    "In Keras you can introduce dropout in a network via the `Dropout` layer, which gets applied to the output of layer right before it, e.g.:"
   ]
  },
  {
   "cell_type": "code",
   "execution_count": 31,
   "metadata": {},
   "outputs": [
    {
     "ename": "NameError",
     "evalue": "name 'model' is not defined",
     "output_type": "error",
     "traceback": [
      "\u001b[0;31m---------------------------------------------------------------------------\u001b[0m",
      "\u001b[0;31mNameError\u001b[0m                                 Traceback (most recent call last)",
      "\u001b[0;32m<ipython-input-31-65ed89de200e>\u001b[0m in \u001b[0;36m<module>\u001b[0;34m\u001b[0m\n\u001b[0;32m----> 1\u001b[0;31m \u001b[0mmodel\u001b[0m\u001b[0;34m.\u001b[0m\u001b[0madd\u001b[0m\u001b[0;34m(\u001b[0m\u001b[0mlayers\u001b[0m\u001b[0;34m.\u001b[0m\u001b[0mDropout\u001b[0m\u001b[0;34m(\u001b[0m\u001b[0;36m0.5\u001b[0m\u001b[0;34m)\u001b[0m\u001b[0;34m)\u001b[0m\u001b[0;34m\u001b[0m\u001b[0;34m\u001b[0m\u001b[0m\n\u001b[0m",
      "\u001b[0;31mNameError\u001b[0m: name 'model' is not defined"
     ]
    }
   ],
   "source": [
    "model.add(layers.Dropout(0.5))"
   ]
  },
  {
   "cell_type": "markdown",
   "metadata": {},
   "source": [
    "Let's add two `Dropout` layers in our IMDB network to see how well they do at reducing overfitting:"
   ]
  },
  {
   "cell_type": "code",
   "execution_count": 32,
   "metadata": {},
   "outputs": [],
   "source": [
    "dpt_model = models.Sequential()\n",
    "dpt_model.add(layers.Dense(16, activation='relu', input_shape=(10000,)))\n",
    "dpt_model.add(layers.Dropout(0.5))\n",
    "dpt_model.add(layers.Dense(16, activation='relu'))\n",
    "dpt_model.add(layers.Dropout(0.5))\n",
    "dpt_model.add(layers.Dense(1, activation='sigmoid'))\n",
    "\n",
    "dpt_model.compile(optimizer='rmsprop',\n",
    "                  loss='binary_crossentropy',\n",
    "                  metrics=['acc'])"
   ]
  },
  {
   "cell_type": "code",
   "execution_count": 33,
   "metadata": {},
   "outputs": [
    {
     "name": "stdout",
     "output_type": "stream",
     "text": [
      "Train on 25000 samples, validate on 25000 samples\n",
      "Epoch 1/20\n",
      "25000/25000 [==============================] - 4s 143us/step - loss: 0.5906 - acc: 0.6848 - val_loss: 0.4324 - val_acc: 0.8616\n",
      "Epoch 2/20\n",
      "25000/25000 [==============================] - 2s 98us/step - loss: 0.4363 - acc: 0.8178 - val_loss: 0.3478 - val_acc: 0.8717\n",
      "Epoch 3/20\n",
      "25000/25000 [==============================] - 2s 96us/step - loss: 0.3477 - acc: 0.8716 - val_loss: 0.2911 - val_acc: 0.8874\n",
      "Epoch 4/20\n",
      "25000/25000 [==============================] - 3s 116us/step - loss: 0.2887 - acc: 0.8985 - val_loss: 0.2768 - val_acc: 0.8884\n",
      "Epoch 5/20\n",
      "25000/25000 [==============================] - 3s 112us/step - loss: 0.2541 - acc: 0.9142 - val_loss: 0.2804 - val_acc: 0.8883\n",
      "Epoch 6/20\n",
      "25000/25000 [==============================] - 3s 108us/step - loss: 0.2227 - acc: 0.9261 - val_loss: 0.2891 - val_acc: 0.8871\n",
      "Epoch 7/20\n",
      "25000/25000 [==============================] - 3s 108us/step - loss: 0.1972 - acc: 0.9350 - val_loss: 0.3220 - val_acc: 0.8857\n",
      "Epoch 8/20\n",
      "25000/25000 [==============================] - 3s 106us/step - loss: 0.1776 - acc: 0.9426 - val_loss: 0.3307 - val_acc: 0.8848\n",
      "Epoch 9/20\n",
      "25000/25000 [==============================] - 3s 108us/step - loss: 0.1717 - acc: 0.9453 - val_loss: 0.3557 - val_acc: 0.8845\n",
      "Epoch 10/20\n",
      "25000/25000 [==============================] - 3s 101us/step - loss: 0.1516 - acc: 0.9505 - val_loss: 0.3724 - val_acc: 0.8832\n",
      "Epoch 11/20\n",
      "25000/25000 [==============================] - 3s 117us/step - loss: 0.1462 - acc: 0.9524 - val_loss: 0.3991 - val_acc: 0.8813\n",
      "Epoch 12/20\n",
      "25000/25000 [==============================] - 3s 109us/step - loss: 0.1370 - acc: 0.9573 - val_loss: 0.4368 - val_acc: 0.8752\n",
      "Epoch 13/20\n",
      "25000/25000 [==============================] - 3s 111us/step - loss: 0.1244 - acc: 0.9604 - val_loss: 0.4546 - val_acc: 0.8753\n",
      "Epoch 14/20\n",
      "25000/25000 [==============================] - 3s 109us/step - loss: 0.1188 - acc: 0.9614 - val_loss: 0.4591 - val_acc: 0.8769\n",
      "Epoch 15/20\n",
      "25000/25000 [==============================] - 3s 115us/step - loss: 0.1139 - acc: 0.9637 - val_loss: 0.5023 - val_acc: 0.8735\n",
      "Epoch 16/20\n",
      "25000/25000 [==============================] - 3s 112us/step - loss: 0.1144 - acc: 0.9644 - val_loss: 0.5052 - val_acc: 0.8756\n",
      "Epoch 17/20\n",
      "25000/25000 [==============================] - 2s 93us/step - loss: 0.1083 - acc: 0.9656 - val_loss: 0.5314 - val_acc: 0.8740\n",
      "Epoch 18/20\n",
      "25000/25000 [==============================] - 3s 101us/step - loss: 0.1092 - acc: 0.9659 - val_loss: 0.5447 - val_acc: 0.8730\n",
      "Epoch 19/20\n",
      "25000/25000 [==============================] - 2s 99us/step - loss: 0.0991 - acc: 0.9679 - val_loss: 0.5836 - val_acc: 0.8727\n",
      "Epoch 20/20\n",
      "25000/25000 [==============================] - 3s 118us/step - loss: 0.1029 - acc: 0.9692 - val_loss: 0.5765 - val_acc: 0.8714\n"
     ]
    }
   ],
   "source": [
    "dpt_model_hist = dpt_model.fit(x_train, y_train,\n",
    "                               epochs=20,\n",
    "                               batch_size=512,\n",
    "                               validation_data=(x_test, y_test))"
   ]
  },
  {
   "cell_type": "markdown",
   "metadata": {},
   "source": [
    "Let's plot the results:"
   ]
  },
  {
   "cell_type": "code",
   "execution_count": 34,
   "metadata": {},
   "outputs": [
    {
     "data": {
      "image/png": "[encoded data removed]",
      "text/plain": [
       "<Figure size 432x288 with 1 Axes>"
      ]
     },
     "metadata": {
      "needs_background": "light"
     },
     "output_type": "display_data"
    }
   ],
   "source": [
    "dpt_model_val_loss = dpt_model_hist.history['val_loss']\n",
    "\n",
    "plt.plot(epochs, original_val_loss, 'b+', label='Original model')\n",
    "plt.plot(epochs, dpt_model_val_loss, 'bo', label='Dropout-regularized model')\n",
    "plt.xlabel('Epochs')\n",
    "plt.ylabel('Validation loss')\n",
    "plt.legend()\n",
    "\n",
    "plt.show()"
   ]
  },
  {
   "cell_type": "markdown",
   "metadata": {},
   "source": [
    "\n",
    "Again, a clear improvement over the reference network.\n",
    "\n",
    "To recap: here the most common ways to prevent overfitting in neural networks:\n",
    "\n",
    "* Getting more training data.\n",
    "* Reducing the capacity of the network.\n",
    "* Adding weight regularization.\n",
    "* Adding dropout."
   ]
  }
 ],
 "metadata": {
  "kernelspec": {
   "display_name": "Python 3",
   "language": "python",
   "name": "python3"
  },
  "language_info": {
   "codemirror_mode": {
    "name": "ipython",
    "version": 3
   },
   "file_extension": ".py",
   "mimetype": "text/x-python",
   "name": "python",
   "nbconvert_exporter": "python",
   "pygments_lexer": "ipython3",
   "version": "3.6.7"
  }
 },
 "nbformat": 4,
 "nbformat_minor": 2
}
